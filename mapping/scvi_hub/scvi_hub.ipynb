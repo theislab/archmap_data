{
 "cells": [
  {
   "cell_type": "code",
   "execution_count": 1,
   "metadata": {},
   "outputs": [
    {
     "name": "stdout",
     "output_type": "stream",
     "text": [
      "Requirement already satisfied: huggingface_hub in /usr/local/lib/python3.9/site-packages (0.16.4)\n",
      "Requirement already satisfied: fsspec in /usr/local/lib/python3.9/site-packages (from huggingface_hub) (2023.6.0)\n",
      "Requirement already satisfied: packaging>=20.9 in /usr/local/lib/python3.9/site-packages (from huggingface_hub) (23.1)\n",
      "Requirement already satisfied: pyyaml>=5.1 in /usr/local/lib/python3.9/site-packages (from huggingface_hub) (6.0.1)\n",
      "Requirement already satisfied: requests in /usr/local/lib/python3.9/site-packages (from huggingface_hub) (2.31.0)\n",
      "Requirement already satisfied: filelock in /usr/local/lib/python3.9/site-packages (from huggingface_hub) (3.12.2)\n",
      "Requirement already satisfied: tqdm>=4.42.1 in /usr/local/lib/python3.9/site-packages (from huggingface_hub) (4.66.1)\n",
      "Requirement already satisfied: typing-extensions>=3.7.4.3 in /usr/local/lib/python3.9/site-packages (from huggingface_hub) (4.7.1)\n",
      "Requirement already satisfied: idna<4,>=2.5 in /usr/local/lib/python3.9/site-packages (from requests->huggingface_hub) (3.4)\n",
      "Requirement already satisfied: charset-normalizer<4,>=2 in /usr/local/lib/python3.9/site-packages (from requests->huggingface_hub) (3.2.0)\n",
      "Requirement already satisfied: urllib3<3,>=1.21.1 in /usr/local/lib/python3.9/site-packages (from requests->huggingface_hub) (1.26.16)\n",
      "Requirement already satisfied: certifi>=2017.4.17 in /usr/local/lib/python3.9/site-packages (from requests->huggingface_hub) (2023.7.22)\n",
      "\u001b[33mWARNING: Running pip as the 'root' user can result in broken permissions and conflicting behaviour with the system package manager. It is recommended to use a virtual environment instead: https://pip.pypa.io/warnings/venv\u001b[0m\u001b[33m\n",
      "\u001b[0m\n",
      "\u001b[1m[\u001b[0m\u001b[34;49mnotice\u001b[0m\u001b[1;39;49m]\u001b[0m\u001b[39;49m A new release of pip is available: \u001b[0m\u001b[31;49m23.0.1\u001b[0m\u001b[39;49m -> \u001b[0m\u001b[32;49m23.2.1\u001b[0m\n",
      "\u001b[1m[\u001b[0m\u001b[34;49mnotice\u001b[0m\u001b[1;39;49m]\u001b[0m\u001b[39;49m To update, run: \u001b[0m\u001b[32;49mpip install --upgrade pip\u001b[0m\n",
      "Requirement already satisfied: python-dotenv in /usr/local/lib/python3.9/site-packages (1.0.0)\n",
      "\u001b[33mWARNING: Running pip as the 'root' user can result in broken permissions and conflicting behaviour with the system package manager. It is recommended to use a virtual environment instead: https://pip.pypa.io/warnings/venv\u001b[0m\u001b[33m\n",
      "\u001b[0m\n",
      "\u001b[1m[\u001b[0m\u001b[34;49mnotice\u001b[0m\u001b[1;39;49m]\u001b[0m\u001b[39;49m A new release of pip is available: \u001b[0m\u001b[31;49m23.0.1\u001b[0m\u001b[39;49m -> \u001b[0m\u001b[32;49m23.2.1\u001b[0m\n",
      "\u001b[1m[\u001b[0m\u001b[34;49mnotice\u001b[0m\u001b[1;39;49m]\u001b[0m\u001b[39;49m To update, run: \u001b[0m\u001b[32;49mpip install --upgrade pip\u001b[0m\n"
     ]
    }
   ],
   "source": [
    "!pip install huggingface_hub\n",
    "!pip install python-dotenv\n",
    "\n",
    "from huggingface_hub import hf_hub_download, HfApi, ModelFilter, snapshot_download, login\n",
    "from dotenv import load_dotenv\n",
    "import os\n",
    "\n",
    "REPO_ID = 'scvi-tools/MODEL-FOR-UNIT-TESTING-1'\n",
    "API_TOKEN = os.getenv(\"API_TOKEN\")"
   ]
  },
  {
   "cell_type": "markdown",
   "metadata": {},
   "source": [
    "# Repository Setup\n",
    "\n",
    "To use this repository, you need to set up a few things locally. Please follow the steps below:\n",
    "\n",
    "### 1. Create `.env` File\n",
    "\n",
    "1. Create a file named `.env` in the root directory of this repository.\n",
    "\n",
    "2. Open the `.env` file in a text editor.\n",
    "\n",
    "3. Add your Hugging Face API key to the `.env` file using the following format:\n",
    "\n",
    "   ```plaintext\n",
    "   API_TOKEN=\"your_api_key_here\"\n",
    "\n",
    "### 2. Creata a /local_models directory\n",
    "\n",
    "1. Create a /local_models directory in the root of the scvi-hub directory. \n",
    "This is where the local models from scvi-hub will be stored.\n"
   ]
  },
  {
   "cell_type": "code",
   "execution_count": 2,
   "metadata": {},
   "outputs": [
    {
     "name": "stdout",
     "output_type": "stream",
     "text": [
      "Token will not been saved to git credential helper. Pass `add_to_git_credential=True` if you want to set the git credential as well.\n",
      "Token is valid (permission: read).\n",
      "Your token has been saved to /root/.cache/huggingface/token\n",
      "Login successful\n"
     ]
    }
   ],
   "source": [
    "login(token=API_TOKEN)"
   ]
  },
  {
   "cell_type": "markdown",
   "metadata": {},
   "source": [
    "### List the models under a repository"
   ]
  },
  {
   "cell_type": "code",
   "execution_count": 3,
   "metadata": {},
   "outputs": [
    {
     "name": "stdout",
     "output_type": "stream",
     "text": [
      "Available Attributes or Keys:\n",
      " * dataset\n",
      " * language\n",
      " * library\n",
      " * license\n",
      " * pipeline_tag\n",
      "\n",
      "['scvi-tools/human-lung-cell-atlas', 'scvi-tools/tabula-sapiens-bladder-scvi', 'scvi-tools/tabula-sapiens-bladder-scanvi', 'scvi-tools/tabula-sapiens-blood-scvi', 'scvi-tools/tabula-sapiens-blood-scanvi', 'scvi-tools/tabula-sapiens-bone_marrow-scvi', 'scvi-tools/tabula-sapiens-bone_marrow-scanvi', 'scvi-tools/tabula-sapiens-eye-scvi', 'scvi-tools/tabula-sapiens-eye-scanvi', 'scvi-tools/tabula-sapiens-fat-scvi', 'scvi-tools/tabula-sapiens-fat-scanvi', 'scvi-tools/tabula-sapiens-heart-scvi', 'scvi-tools/tabula-sapiens-heart-scanvi', 'scvi-tools/tabula-sapiens-large_intestine-scvi', 'scvi-tools/tabula-sapiens-large_intestine-scanvi', 'scvi-tools/tabula-sapiens-liver-scvi', 'scvi-tools/tabula-sapiens-liver-scanvi', 'scvi-tools/tabula-sapiens-lung-scvi', 'scvi-tools/tabula-sapiens-lung-scanvi', 'scvi-tools/tabula-sapiens-lymph_node-scvi', 'scvi-tools/tabula-sapiens-lymph_node-scanvi', 'scvi-tools/tabula-sapiens-mammary-scvi', 'scvi-tools/tabula-sapiens-mammary-scanvi', 'scvi-tools/tabula-sapiens-muscle-scvi', 'scvi-tools/tabula-sapiens-muscle-scanvi', 'scvi-tools/tabula-sapiens-pancreas-scvi', 'scvi-tools/tabula-sapiens-pancreas-scanvi', 'scvi-tools/tabula-sapiens-prostate-scvi', 'scvi-tools/tabula-sapiens-prostate-scanvi', 'scvi-tools/tabula-sapiens-salivary_gland-scvi', 'scvi-tools/tabula-sapiens-salivary_gland-scanvi', 'scvi-tools/tabula-sapiens-skin-scvi', 'scvi-tools/tabula-sapiens-skin-scanvi', 'scvi-tools/tabula-sapiens-small_intestine-scvi', 'scvi-tools/tabula-sapiens-small_intestine-scanvi', 'scvi-tools/tabula-sapiens-spleen-scvi', 'scvi-tools/tabula-sapiens-spleen-scanvi', 'scvi-tools/tabula-sapiens-thymus-scvi', 'scvi-tools/tabula-sapiens-thymus-scanvi', 'scvi-tools/tabula-sapiens-tongue-scvi', 'scvi-tools/tabula-sapiens-tongue-scanvi', 'scvi-tools/tabula-sapiens-trachea-scvi', 'scvi-tools/tabula-sapiens-trachea-scanvi', 'scvi-tools/tabula-sapiens-uterus-scvi', 'scvi-tools/tabula-sapiens-uterus-scanvi', 'scvi-tools/tabula-sapiens-vasculature-scvi', 'scvi-tools/tabula-sapiens-vasculature-scanvi', 'scvi-tools/non-small-cell-lung-cancer']\n",
      "scvi-tools/tabula-sapiens-bladder-scvi\n"
     ]
    }
   ],
   "source": [
    "api = HfApi()\n",
    "print(api.get_model_tags())\n",
    "models = api.list_models(\n",
    "    filter=ModelFilter(\n",
    "        author=\"scvi-tools\"\n",
    "    )\n",
    ")\n",
    "\n",
    "# Get all model IDs that do not have the words demo or testing in the name\n",
    "filtered_model_ids = [model.modelId for model in models if \"demo\" not in model.modelId.lower() and \"testing\" not in model.modelId.lower() and \"stereoscope\" not in model.modelId.lower() and \"condscvi\" not in model.modelId.lower()]\n",
    "\n",
    "# Get all the model ids\n",
    "print(filtered_model_ids)\n",
    "# Get a certain model id\n",
    "print(filtered_model_ids[1])\n"
   ]
  },
  {
   "cell_type": "markdown",
   "metadata": {},
   "source": [
    "### Download the models and cache them\n",
    "\n",
    "The models will be downloaded in the local_models directory. The Pytorch files can be found under the /snapshots folder."
   ]
  },
  {
   "cell_type": "code",
   "execution_count": 4,
   "metadata": {},
   "outputs": [
    {
     "data": {
      "application/vnd.jupyter.widget-view+json": {
       "model_id": "23e5a6914f4c4ba8801573258a3c571f",
       "version_major": 2,
       "version_minor": 0
      },
      "text/plain": [
       "Fetching 4 files:   0%|          | 0/4 [00:00<?, ?it/s]"
      ]
     },
     "metadata": {},
     "output_type": "display_data"
    },
    {
     "name": "stderr",
     "output_type": "stream",
     "text": [
      "Downloading...\n",
      "From: https://zenodo.org/api/files/fd2c61e6-f4cd-4984-ade0-24d26d9adef6/TS_Bladder_filtered.h5ad\n",
      "To: /app/scvi_hub_models/models--scvi-tools--tabula-sapiens-bladder-scvi/snapshots/89565a92a1504e9b22d73071c6e014e24b7d32c0/reference_atlas.h5ad\n",
      "100%|██████████| 1.13G/1.13G [05:48<00:00, 3.24MB/s]\n"
     ]
    },
    {
     "data": {
      "text/plain": [
       "'/app/scvi_hub_models/models--scvi-tools--tabula-sapiens-bladder-scvi/snapshots/89565a92a1504e9b22d73071c6e014e24b7d32c0/reference_atlas.h5ad'"
      ]
     },
     "execution_count": 4,
     "metadata": {},
     "output_type": "execute_result"
    }
   ],
   "source": [
    "# Download files to local folder and use the cached version\n",
    "# This example downloads the repository that has model_id[4]\n",
    "# The model will be downloaded under \"/snapshot\"\n",
    "model_path = \"/app/scvi_hub_models/\"\n",
    "\n",
    "folder_path = snapshot_download(repo_id=filtered_model_ids[1], allow_patterns=[\"*.h5ad\",\"*.pt\",\"*.json\",\"*.md\"],cache_dir=model_path)\n",
    "\n",
    "\n",
    "import json\n",
    "import gdown\n",
    "\n",
    "json_path = folder_path + \"/_scvi_required_metadata.json\"\n",
    "f = open(json_path)\n",
    "\n",
    "data = json.load(f)\n",
    "\n",
    "training_data_url = data.pop(\"training_data_url\")\n",
    "model_parent_module = data.pop(\"model_parent_module\")\n",
    "model_cls_name = data.pop(\"model_cls_name\")\n",
    "output = folder_path + '/reference_atlas.h5ad'\n",
    "\n",
    "gdown.download(training_data_url, output)"
   ]
  },
  {
   "cell_type": "markdown",
   "metadata": {},
   "source": [
    "### Start the ML-pipeline\n",
    "\n",
    "Inject the model and reference atlas in the existing ML-pipeline"
   ]
  },
  {
   "cell_type": "code",
   "execution_count": 8,
   "metadata": {},
   "outputs": [
    {
     "name": "stderr",
     "output_type": "stream",
     "text": [
      "/usr/local/lib/python3.9/site-packages/anndata/_core/anndata.py:121: ImplicitModificationWarning: Transforming to str index.\n",
      "  warnings.warn(\"Transforming to str index.\", ImplicitModificationWarning)\n"
     ]
    },
    {
     "name": "stdout",
     "output_type": "stream",
     "text": [
      "scvi.model.SCVI\n",
      "\u001b[34mINFO    \u001b[0m File                                                                                                      \n",
      "         \u001b[35m/app/scvi_hub_models/models--scvi-tools--tabula-sapiens-bladder-scvi/snapshots/89565a92a1504e9b22d73071c6e\u001b[0m\n",
      "         \u001b[35m014e24b7d32c0/\u001b[0m\u001b[95mmodel.pt\u001b[0m already downloaded                                                                 \n",
      "\u001b[34mINFO    \u001b[0m Found \u001b[1;36m100.0\u001b[0m% reference vars in query data.                                                                \n",
      "\u001b[34mINFO    \u001b[0m File                                                                                                      \n",
      "         \u001b[35m/app/scvi_hub_models/models--scvi-tools--tabula-sapiens-bladder-scvi/snapshots/89565a92a1504e9b22d73071c6e\u001b[0m\n",
      "         \u001b[35m014e24b7d32c0/\u001b[0m\u001b[95mmodel.pt\u001b[0m already downloaded                                                                 \n"
     ]
    },
    {
     "name": "stderr",
     "output_type": "stream",
     "text": [
      "/usr/local/lib/python3.9/site-packages/scvi/data/fields/_dataframe_field.py:227: UserWarning: Category 12 in adata.obs['_scvi_labels'] has fewer than 3 cells. Models may not train properly.\n",
      "  new_mapping = _make_column_categorical(\n",
      "/usr/local/lib/python3.9/site-packages/scvi/train/_trainrunner.py:76: UserWarning: `use_gpu` is deprecated in v1.0 and will be removed in v1.1. Please use `accelerator` and `devices` instead.\n",
      "  accelerator, lightning_devices, device = parse_device_args(\n",
      "GPU available: False, used: False\n",
      "TPU available: False, using: 0 TPU cores\n",
      "IPU available: False, using: 0 IPUs\n",
      "HPU available: False, using: 0 HPUs\n"
     ]
    },
    {
     "name": "stdout",
     "output_type": "stream",
     "text": [
      "Epoch 4/10:  30%|███       | 3/10 [00:06<00:14,  2.06s/it, v_num=1, train_loss_step=4.04e+3, train_loss_epoch=3.52e+3]"
     ]
    },
    {
     "name": "stderr",
     "output_type": "stream",
     "text": [
      "/usr/local/lib/python3.9/site-packages/lightning/pytorch/trainer/call.py:53: UserWarning: Detected KeyboardInterrupt, attempting graceful shutdown...\n",
      "  rank_zero_warn(\"Detected KeyboardInterrupt, attempting graceful shutdown...\")\n",
      "/usr/local/lib/python3.9/site-packages/anndata/_core/anndata.py:1763: FutureWarning: The AnnData.concatenate method is deprecated in favour of the anndata.concat function. Please use anndata.concat instead.\n",
      "\n",
      "See the tutorial for concat at: https://anndata.readthedocs.io/en/latest/concatenation.html\n",
      "  warnings.warn(\n"
     ]
    },
    {
     "name": "stdout",
     "output_type": "stream",
     "text": [
      "\u001b[34mINFO    \u001b[0m Input AnnData not setup with scvi-tools. attempting to transfer AnnData setup                             \n"
     ]
    }
   ],
   "source": [
    "import scvi\n",
    "import scarches as sca\n",
    "import scanpy\n",
    "\n",
    "from huggingface_hub import ModelCard\n",
    "import re\n",
    "\n",
    "import ast\n",
    "\n",
    "# Get the card of the corresponding model\n",
    "card = ModelCard.load(filtered_model_ids[1])\n",
    "\n",
    "def parse_json_from_text(text):\n",
    "    \"\"\"\n",
    "    Parses the \"model_setup_anndata_args\" object from a given text block and returns it as a Python dictionary.\n",
    "    \n",
    "    Args:\n",
    "        text (str): The input text containing the JSON object.\n",
    "        \n",
    "    Returns:\n",
    "        dict or None: If the JSON object is successfully parsed, returns a Python dictionary.\n",
    "                      If parsing fails or if the JSON object is not found, returns None.\n",
    "    \"\"\"\n",
    "    # Define the pattern to find the \"model_setup_anndata_args\" JSON object\n",
    "    pattern = r\"\\*\\*model_setup_anndata_args\\*\\*:\\s*```json\\s*(.*?)```\"\n",
    "\n",
    "    # Find the JSON object using regex\n",
    "    match = re.search(pattern, text, re.DOTALL)\n",
    "\n",
    "    if match:\n",
    "        json_str = match.group(1)\n",
    "        \n",
    "        # Parse the JSON object\n",
    "        try:\n",
    "            json_object = json.loads(json_str)\n",
    "            return json_object\n",
    "        except json.JSONDecodeError as e:\n",
    "            print(\"Error decoding JSON:\", e)\n",
    "            return None\n",
    "    else:\n",
    "        print(\"JSON object not found in the text.\")\n",
    "        return None\n",
    "\n",
    "# Print the parsed model_setup_anndata_args object.\n",
    "model_args = parse_json_from_text(card.text)\n",
    "\n",
    "batch_key = model_args.pop(\"batch_key\")\n",
    "labels_key = model_args.pop(\"labels_key\")\n",
    "\n",
    "reference = scanpy.read_h5ad(folder_path + \"/reference_atlas.h5ad\")\n",
    "query = scanpy.pp.subsample(reference, 0.1, copy=True)\n",
    "\n",
    "eval_string = model_parent_module + \".\" + model_cls_name\n",
    "\n",
    "try:\n",
    "    eval_string == \"scvi.model.SCVI\" or \"scvi.model.SCANVI\"\n",
    "\n",
    "    print(eval_string)\n",
    "except:\n",
    "    print(\"Wrong module/class combination fetched from huggingface\")\n",
    "\n",
    "eval(eval_string).prepare_query_anndata(query, folder_path)\n",
    "\n",
    "model = eval(eval_string).load_query_data(\n",
    "            query,\n",
    "            folder_path,\n",
    "            freeze_dropout=True,\n",
    "        )\n",
    "\n",
    "model.train(\n",
    "    max_epochs=10,\n",
    "    plan_kwargs=dict(weight_decay=0.0),\n",
    "    check_val_every_n_epoch=10,\n",
    "    use_gpu=False\n",
    ")\n",
    "\n",
    "combined_adata = query.concatenate(reference, batch_key=\"bkey\")\n",
    "eval(eval_string).setup_anndata(combined_adata)\n",
    "\n",
    "combined_adata.obsm[\"latent_rep\"] = model.get_latent_representation(combined_adata)"
   ]
  }
 ],
 "metadata": {
  "kernelspec": {
   "display_name": "scarches",
   "language": "python",
   "name": "python3"
  },
  "language_info": {
   "codemirror_mode": {
    "name": "ipython",
    "version": 3
   },
   "file_extension": ".py",
   "mimetype": "text/x-python",
   "name": "python",
   "nbconvert_exporter": "python",
   "pygments_lexer": "ipython3",
   "version": "3.9.17"
  },
  "orig_nbformat": 4
 },
 "nbformat": 4,
 "nbformat_minor": 2
}
