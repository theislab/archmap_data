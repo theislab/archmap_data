{
 "cells": [
  {
   "cell_type": "code",
   "execution_count": 3,
   "metadata": {},
   "outputs": [],
   "source": [
    "from huggingface_hub import hf_hub_download, HfApi, ModelFilter, snapshot_download, login\n",
    "from dotenv import load_dotenv\n",
    "import os\n",
    "\n",
    "REPO_ID = 'scvi-tools/MODEL-FOR-UNIT-TESTING-1'\n",
    "API_TOKEN = os.getenv(\"API_TOKEN\")"
   ]
  },
  {
   "cell_type": "markdown",
   "metadata": {},
   "source": [
    "# Repository Setup\n",
    "\n",
    "To use this repository, you need to set up a few things locally. Please follow the steps below:\n",
    "\n",
    "### 1. Create `.env` File\n",
    "\n",
    "1. Create a file named `.env` in the root directory of this repository.\n",
    "\n",
    "2. Open the `.env` file in a text editor.\n",
    "\n",
    "3. Add your Hugging Face API key to the `.env` file using the following format:\n",
    "\n",
    "   ```plaintext\n",
    "   API_TOKEN=\"your_api_key_here\"\n",
    "\n",
    "### 2. Creata a /local_models directory\n",
    "\n",
    "1. Create a /local_models directory in the root of the scvi-hub directory. \n",
    "This is where the local models from scvi-hub will be stored.\n"
   ]
  },
  {
   "cell_type": "code",
   "execution_count": 4,
   "metadata": {},
   "outputs": [
    {
     "data": {
      "application/vnd.jupyter.widget-view+json": {
       "model_id": "3e91b438e01942318a267152e86cf766",
       "version_major": 2,
       "version_minor": 0
      },
      "text/plain": [
       "VBox(children=(HTML(value='<center> <img\\nsrc=https://huggingface.co/front/assets/huggingface_logo-noborder.sv…"
      ]
     },
     "metadata": {},
     "output_type": "display_data"
    }
   ],
   "source": [
    "login(token=API_TOKEN)"
   ]
  },
  {
   "cell_type": "markdown",
   "metadata": {},
   "source": [
    "### List the models under a repository"
   ]
  },
  {
   "cell_type": "code",
   "execution_count": 5,
   "metadata": {},
   "outputs": [
    {
     "name": "stdout",
     "output_type": "stream",
     "text": [
      "['scvi-tools/human-lung-cell-atlas', 'scvi-tools/tabula-sapiens-bladder-scvi', 'scvi-tools/tabula-sapiens-bladder-scanvi', 'scvi-tools/tabula-sapiens-bladder-condscvi', 'scvi-tools/tabula-sapiens-bladder-stereoscope', 'scvi-tools/tabula-sapiens-blood-scvi', 'scvi-tools/tabula-sapiens-blood-scanvi', 'scvi-tools/tabula-sapiens-blood-condscvi', 'scvi-tools/tabula-sapiens-blood-stereoscope', 'scvi-tools/tabula-sapiens-bone_marrow-scvi', 'scvi-tools/tabula-sapiens-bone_marrow-scanvi', 'scvi-tools/tabula-sapiens-bone_marrow-condscvi', 'scvi-tools/tabula-sapiens-bone_marrow-stereoscope', 'scvi-tools/tabula-sapiens-eye-scvi', 'scvi-tools/tabula-sapiens-eye-scanvi', 'scvi-tools/tabula-sapiens-eye-condscvi', 'scvi-tools/tabula-sapiens-eye-stereoscope', 'scvi-tools/tabula-sapiens-fat-scvi', 'scvi-tools/tabula-sapiens-fat-scanvi', 'scvi-tools/tabula-sapiens-fat-condscvi', 'scvi-tools/tabula-sapiens-fat-stereoscope', 'scvi-tools/tabula-sapiens-heart-scvi', 'scvi-tools/tabula-sapiens-heart-scanvi', 'scvi-tools/tabula-sapiens-heart-condscvi', 'scvi-tools/tabula-sapiens-heart-stereoscope', 'scvi-tools/tabula-sapiens-large_intestine-scvi', 'scvi-tools/tabula-sapiens-large_intestine-scanvi', 'scvi-tools/tabula-sapiens-large_intestine-condscvi', 'scvi-tools/tabula-sapiens-large_intestine-stereoscope', 'scvi-tools/tabula-sapiens-liver-scvi', 'scvi-tools/tabula-sapiens-liver-scanvi', 'scvi-tools/tabula-sapiens-liver-condscvi', 'scvi-tools/tabula-sapiens-liver-stereoscope', 'scvi-tools/tabula-sapiens-lung-scvi', 'scvi-tools/tabula-sapiens-lung-scanvi', 'scvi-tools/tabula-sapiens-lung-condscvi', 'scvi-tools/tabula-sapiens-lung-stereoscope', 'scvi-tools/tabula-sapiens-lymph_node-scvi', 'scvi-tools/tabula-sapiens-lymph_node-scanvi', 'scvi-tools/tabula-sapiens-lymph_node-condscvi', 'scvi-tools/tabula-sapiens-lymph_node-stereoscope', 'scvi-tools/tabula-sapiens-mammary-scvi', 'scvi-tools/tabula-sapiens-mammary-scanvi', 'scvi-tools/tabula-sapiens-mammary-condscvi', 'scvi-tools/tabula-sapiens-mammary-stereoscope', 'scvi-tools/tabula-sapiens-muscle-scvi', 'scvi-tools/tabula-sapiens-muscle-scanvi', 'scvi-tools/tabula-sapiens-muscle-condscvi', 'scvi-tools/tabula-sapiens-muscle-stereoscope', 'scvi-tools/tabula-sapiens-pancreas-scvi', 'scvi-tools/tabula-sapiens-pancreas-scanvi', 'scvi-tools/tabula-sapiens-pancreas-condscvi', 'scvi-tools/tabula-sapiens-pancreas-stereoscope', 'scvi-tools/tabula-sapiens-prostate-scvi', 'scvi-tools/tabula-sapiens-prostate-scanvi', 'scvi-tools/tabula-sapiens-salivary_gland-scvi', 'scvi-tools/tabula-sapiens-salivary_gland-scanvi', 'scvi-tools/tabula-sapiens-skin-scvi', 'scvi-tools/tabula-sapiens-skin-scanvi', 'scvi-tools/tabula-sapiens-skin-condscvi', 'scvi-tools/tabula-sapiens-skin-stereoscope', 'scvi-tools/tabula-sapiens-small_intestine-scvi', 'scvi-tools/tabula-sapiens-small_intestine-scanvi', 'scvi-tools/tabula-sapiens-spleen-scvi', 'scvi-tools/tabula-sapiens-spleen-scanvi', 'scvi-tools/tabula-sapiens-spleen-condscvi', 'scvi-tools/tabula-sapiens-spleen-stereoscope', 'scvi-tools/tabula-sapiens-thymus-scvi', 'scvi-tools/tabula-sapiens-thymus-scanvi', 'scvi-tools/tabula-sapiens-tongue-scvi', 'scvi-tools/tabula-sapiens-tongue-scanvi', 'scvi-tools/tabula-sapiens-tongue-condscvi', 'scvi-tools/tabula-sapiens-tongue-stereoscope', 'scvi-tools/tabula-sapiens-trachea-scvi', 'scvi-tools/tabula-sapiens-trachea-scanvi', 'scvi-tools/tabula-sapiens-trachea-condscvi', 'scvi-tools/tabula-sapiens-trachea-stereoscope', 'scvi-tools/tabula-sapiens-uterus-scvi', 'scvi-tools/tabula-sapiens-uterus-scanvi', 'scvi-tools/tabula-sapiens-uterus-condscvi', 'scvi-tools/tabula-sapiens-uterus-stereoscope', 'scvi-tools/tabula-sapiens-vasculature-scvi', 'scvi-tools/tabula-sapiens-vasculature-scanvi', 'scvi-tools/tabula-sapiens-vasculature-condscvi', 'scvi-tools/tabula-sapiens-vasculature-stereoscope', 'scvi-tools/tabula-sapiens-prostate-condscvi', 'scvi-tools/tabula-sapiens-prostate-stereoscope', 'scvi-tools/tabula-sapiens-salivary_gland-condscvi', 'scvi-tools/tabula-sapiens-salivary_gland-stereoscope', 'scvi-tools/tabula-sapiens-small_intestine-condscvi', 'scvi-tools/tabula-sapiens-small_intestine-stereoscope', 'scvi-tools/tabula-sapiens-thymus-condscvi', 'scvi-tools/tabula-sapiens-thymus-stereoscope', 'scvi-tools/non-small-cell-lung-cancer']\n",
      "scvi-tools/tabula-sapiens-bladder-scanvi\n"
     ]
    }
   ],
   "source": [
    "api = HfApi()\n",
    "models = api.list_models(\n",
    "    filter=ModelFilter(\n",
    "        author=\"scvi-tools\",\n",
    "    )\n",
    ")\n",
    "\n",
    "# Get all model IDs that do not have the words demo or testing in the name\n",
    "filtered_model_ids = [model.modelId for model in models if \"demo\" not in model.modelId.lower() and \"testing\" not in model.modelId.lower()]\n",
    "\n",
    "# Get all the model ids\n",
    "print(filtered_model_ids)\n",
    "# Get a certain model id\n",
    "print(filtered_model_ids[1])\n"
   ]
  },
  {
   "cell_type": "markdown",
   "metadata": {},
   "source": [
    "### Download the models and cache them\n",
    "\n",
    "The models will be downloaded in the local_models directory. The Pytorch files can be found under the /snapshots folder."
   ]
  },
  {
   "cell_type": "code",
   "execution_count": 25,
   "metadata": {},
   "outputs": [
    {
     "data": {
      "application/vnd.jupyter.widget-view+json": {
       "model_id": "be90a748d53c4adfb41c666c98696f98",
       "version_major": 2,
       "version_minor": 0
      },
      "text/plain": [
       "Fetching 3 files:   0%|          | 0/3 [00:00<?, ?it/s]"
      ]
     },
     "metadata": {},
     "output_type": "display_data"
    },
    {
     "data": {
      "application/vnd.jupyter.widget-view+json": {
       "model_id": "dcd55af91b3c40e98623a98c97e1b8bd",
       "version_major": 2,
       "version_minor": 0
      },
      "text/plain": [
       "Downloading (…)quired_metadata.json:   0%|          | 0.00/254 [00:00<?, ?B/s]"
      ]
     },
     "metadata": {},
     "output_type": "display_data"
    },
    {
     "data": {
      "application/vnd.jupyter.widget-view+json": {
       "model_id": "0cd46b278f5748eca626e46cf21dc486",
       "version_major": 2,
       "version_minor": 0
      },
      "text/plain": [
       "Downloading model.pt:   0%|          | 0.00/11.0M [00:00<?, ?B/s]"
      ]
     },
     "metadata": {},
     "output_type": "display_data"
    },
    {
     "data": {
      "application/vnd.jupyter.widget-view+json": {
       "model_id": "1b27aaedd5134336afc662125e825eb6",
       "version_major": 2,
       "version_minor": 0
      },
      "text/plain": [
       "Downloading adata.h5ad:   0%|          | 0.00/21.3M [00:00<?, ?B/s]"
      ]
     },
     "metadata": {},
     "output_type": "display_data"
    },
    {
     "name": "stderr",
     "output_type": "stream",
     "text": [
      "Downloading...\n",
      "From: https://zenodo.org/api/files/fd2c61e6-f4cd-4984-ade0-24d26d9adef6/TS_Bladder_filtered.h5ad\n",
      "To: /app/scvi_hub_models/models--scvi-tools--tabula-sapiens-bladder-scvi/snapshots/89565a92a1504e9b22d73071c6e014e24b7d32c0/reference_atlas.h5ad\n",
      "100%|██████████| 1.13G/1.13G [21:53<00:00, 861kB/s] \n"
     ]
    },
    {
     "data": {
      "text/plain": [
       "'/app/scvi_hub_models/models--scvi-tools--tabula-sapiens-bladder-scvi/snapshots/89565a92a1504e9b22d73071c6e014e24b7d32c0/reference_atlas.h5ad'"
      ]
     },
     "execution_count": 25,
     "metadata": {},
     "output_type": "execute_result"
    }
   ],
   "source": [
    "# Download files to local folder and use the cached version\n",
    "# This example downloads the repository that has model_id[4]\n",
    "# The model will be downloaded under \"/snapshot\"\n",
    "model_path = \"/app/scvi_hub_models/\"\n",
    "\n",
    "folder_path = snapshot_download(repo_id=filtered_model_ids[1], allow_patterns=[\"*.h5ad\",\"*.pt\",\"*.json\"],cache_dir=model_path)\n",
    "\n",
    "\n",
    "import json\n",
    "import gdown\n",
    "\n",
    "json_path = folder_path + \"/_scvi_required_metadata.json\"\n",
    "f = open(json_path)\n",
    "\n",
    "data = json.load(f)\n",
    "\n",
    "training_data_url = data.pop(\"training_data_url\")\n",
    "model_parent_module = data.pop(\"model_parent_module\")\n",
    "model_cls_name = data.pop(\"model_cls_name\")\n",
    "output = folder_path + '/reference_atlas.h5ad'\n",
    "\n",
    "gdown.download(training_data_url, output)"
   ]
  },
  {
   "cell_type": "markdown",
   "metadata": {},
   "source": [
    "### Start the ML-pipeline\n",
    "\n",
    "Inject the model and reference atlas in the existing ML-pipeline"
   ]
  },
  {
   "cell_type": "code",
   "execution_count": 24,
   "metadata": {},
   "outputs": [
    {
     "name": "stderr",
     "output_type": "stream",
     "text": [
      "/usr/local/lib/python3.9/site-packages/anndata/_core/anndata.py:121: ImplicitModificationWarning: Transforming to str index.\n",
      "  warnings.warn(\"Transforming to str index.\", ImplicitModificationWarning)\n"
     ]
    },
    {
     "ename": "AttributeError",
     "evalue": "module 'scvi.model' has no attribute 'RNAStereoscope'",
     "output_type": "error",
     "traceback": [
      "\u001b[0;31m---------------------------------------------------------------------------\u001b[0m",
      "\u001b[0;31mAttributeError\u001b[0m                            Traceback (most recent call last)",
      "Cell \u001b[0;32mIn[24], line 8\u001b[0m\n\u001b[1;32m      5\u001b[0m reference \u001b[39m=\u001b[39m scanpy\u001b[39m.\u001b[39mread_h5ad(folder_path \u001b[39m+\u001b[39m \u001b[39m\"\u001b[39m\u001b[39m/reference_atlas.h5ad\u001b[39m\u001b[39m\"\u001b[39m)\n\u001b[1;32m      6\u001b[0m query \u001b[39m=\u001b[39m scanpy\u001b[39m.\u001b[39mpp\u001b[39m.\u001b[39msubsample(reference, \u001b[39m0.1\u001b[39m, copy\u001b[39m=\u001b[39m\u001b[39mTrue\u001b[39;00m)\n\u001b[0;32m----> 8\u001b[0m model \u001b[39m=\u001b[39m \u001b[39meval\u001b[39;49m(model_parent_module \u001b[39m+\u001b[39;49m \u001b[39m\"\u001b[39;49m\u001b[39m.\u001b[39;49m\u001b[39m\"\u001b[39;49m \u001b[39m+\u001b[39;49m model_cls_name)\u001b[39m.\u001b[39mload_query_data(\n\u001b[1;32m      9\u001b[0m             query,\n\u001b[1;32m     10\u001b[0m             folder_path,\n\u001b[1;32m     11\u001b[0m             freeze_dropout\u001b[39m=\u001b[39m\u001b[39mTrue\u001b[39;00m,\n\u001b[1;32m     12\u001b[0m         )\n\u001b[1;32m     14\u001b[0m model\u001b[39m.\u001b[39mtrain(\n\u001b[1;32m     15\u001b[0m     max_epochs\u001b[39m=\u001b[39m\u001b[39m10\u001b[39m,\n\u001b[1;32m     16\u001b[0m     plan_kwargs\u001b[39m=\u001b[39m\u001b[39mdict\u001b[39m(weight_decay\u001b[39m=\u001b[39m\u001b[39m0.0\u001b[39m),\n\u001b[1;32m     17\u001b[0m     check_val_every_n_epoch\u001b[39m=\u001b[39m\u001b[39m10\u001b[39m,\n\u001b[1;32m     18\u001b[0m     use_gpu\u001b[39m=\u001b[39m\u001b[39mFalse\u001b[39;00m\n\u001b[1;32m     19\u001b[0m )\n\u001b[1;32m     22\u001b[0m combined_adata \u001b[39m=\u001b[39m query\u001b[39m.\u001b[39mconcatenate(reference, batch_key\u001b[39m=\u001b[39m\u001b[39m'\u001b[39m\u001b[39mbkey\u001b[39m\u001b[39m'\u001b[39m)\n",
      "File \u001b[0;32m<string>:1\u001b[0m\n",
      "\u001b[0;31mAttributeError\u001b[0m: module 'scvi.model' has no attribute 'RNAStereoscope'"
     ]
    }
   ],
   "source": [
    "import scvi\n",
    "import scarches as sca\n",
    "import scanpy\n",
    "\n",
    "reference = scanpy.read_h5ad(folder_path + \"/reference_atlas.h5ad\")\n",
    "query = scanpy.pp.subsample(reference, 0.1, copy=True)\n",
    "\n",
    "model = eval(model_parent_module + \".\" + model_cls_name).load_query_data(\n",
    "            query,\n",
    "            folder_path,\n",
    "            freeze_dropout=True,\n",
    "        )\n",
    "\n",
    "model.train(\n",
    "    max_epochs=10,\n",
    "    plan_kwargs=dict(weight_decay=0.0),\n",
    "    check_val_every_n_epoch=10,\n",
    "    use_gpu=False\n",
    ")\n",
    "\n",
    "\n",
    "combined_adata = query.concatenate(reference, batch_key='bkey')\n",
    "eval(model_parent_module + \".\" + model_cls_name).setup_anndata(combined_adata, batch_key=\"batch\")\n",
    "\n",
    "combined_adata.obsm[\"latent_rep\"] = model.get_latent_representation(combined_adata)"
   ]
  }
 ],
 "metadata": {
  "kernelspec": {
   "display_name": "scarches",
   "language": "python",
   "name": "python3"
  },
  "language_info": {
   "codemirror_mode": {
    "name": "ipython",
    "version": 3
   },
   "file_extension": ".py",
   "mimetype": "text/x-python",
   "name": "python",
   "nbconvert_exporter": "python",
   "pygments_lexer": "ipython3",
   "version": "3.9.17"
  },
  "orig_nbformat": 4
 },
 "nbformat": 4,
 "nbformat_minor": 2
}
