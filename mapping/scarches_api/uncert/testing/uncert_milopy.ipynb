{
 "cells": [
  {
   "cell_type": "code",
   "execution_count": 1,
   "metadata": {},
   "outputs": [],
   "source": [
    "import os\n",
    "os.chdir('../')\n",
    "import warnings\n",
    "warnings.simplefilter(action='ignore', category=FutureWarning)\n",
    "warnings.simplefilter(action='ignore', category=UserWarning)"
   ]
  },
  {
   "cell_type": "code",
   "execution_count": 2,
   "metadata": {},
   "outputs": [
    {
     "name": "stderr",
     "output_type": "stream",
     "text": [
      "WARNING:root:In order to use the mouse gastrulation seqFISH datsets, please install squidpy (see https://github.com/scverse/squidpy).\n",
      "INFO:lightning_fabric.utilities.seed:Global seed set to 0\n",
      "/home/alextopalova/miniconda3/envs/archmap/lib/python3.11/site-packages/tqdm/auto.py:21: TqdmWarning: IProgress not found. Please update jupyter and ipywidgets. See https://ipywidgets.readthedocs.io/en/stable/user_install.html\n",
      "  from .autonotebook import tqdm as notebook_tqdm\n",
      "WARNING:root:In order to use sagenet models, please install pytorch geometric (see https://pytorch-geometric.readthedocs.io) and \n",
      " captum (see https://github.com/pytorch/captum).\n",
      "WARNING:root:mvTCR is not installed. To use mvTCR models, please install it first using \"pip install mvtcr\"\n",
      "WARNING:root:multigrate is not installed. To use multigrate models, please install it first using \"pip install multigrate\".\n"
     ]
    }
   ],
   "source": [
    "import scanpy as sc\n",
    "import torch\n",
    "import scarches as sca\n",
    "from scarches.dataset.trvae.data_handling import remove_sparsity\n",
    "import matplotlib.pyplot as plt\n",
    "import numpy as np\n",
    "import gdown\n",
    "import anndata as ad\n",
    "import pandas as pd\n",
    "\n",
    "import milopy"
   ]
  },
  {
   "cell_type": "code",
   "execution_count": 3,
   "metadata": {},
   "outputs": [],
   "source": [
    "from uncert_metric import *"
   ]
  },
  {
   "cell_type": "code",
   "execution_count": 4,
   "metadata": {},
   "outputs": [],
   "source": [
    "sc.settings.set_figure_params(dpi=200, frameon=False)\n",
    "sc.set_figure_params(dpi=200)\n",
    "sc.set_figure_params(figsize=(4, 3))\n",
    "torch.set_printoptions(precision=3, sci_mode=False, edgeitems=7)"
   ]
  },
  {
   "attachments": {},
   "cell_type": "markdown",
   "metadata": {},
   "source": [
    "# Pancreas normal"
   ]
  },
  {
   "cell_type": "code",
   "execution_count": 5,
   "metadata": {},
   "outputs": [],
   "source": [
    "condition_key = 'study'\n",
    "cell_type_key = 'cell_type'\n",
    "source_adata = sc.read(\"source/source__pancreas.h5ad\")\n",
    "target_adata = sc.read(\"target/target__pancreas.h5ad\")\n",
    "surgery_path = \"surgery_model/surgery_model_pancreas\""
   ]
  },
  {
   "cell_type": "code",
   "execution_count": 6,
   "metadata": {},
   "outputs": [
    {
     "name": "stdout",
     "output_type": "stream",
     "text": [
      "AnnData object with n_obs × n_vars = 10294 × 1000\n",
      "    obs: 'batch', 'study', 'cell_type', 'size_factors'\n",
      "\n",
      "INITIALIZING NEW NETWORK..............\n",
      "Encoder Architecture:\n",
      "\tInput Layer in, out and cond: 1000 128 5\n",
      "\tHidden Layer 1 in/out: 128 128\n",
      "\tMean/Var Layer in/out: 128 10\n",
      "Decoder Architecture:\n",
      "\tFirst Layer in, out and cond:  10 128 5\n",
      "\tHidden Layer 1 in/out: 128 128\n",
      "\tOutput Layer in/out:  128 1000 \n",
      "\n"
     ]
    }
   ],
   "source": [
    "model = sca.models.TRVAE.load(surgery_path, source_adata)"
   ]
  },
  {
   "cell_type": "code",
   "execution_count": 7,
   "metadata": {},
   "outputs": [
    {
     "data": {
      "text/plain": [
       "AnnData object with n_obs × n_vars = 10294 × 1000\n",
       "    obs: 'batch', 'study', 'cell_type', 'size_factors'"
      ]
     },
     "execution_count": 7,
     "metadata": {},
     "output_type": "execute_result"
    }
   ],
   "source": [
    "source_adata"
   ]
  },
  {
   "cell_type": "code",
   "execution_count": 8,
   "metadata": {},
   "outputs": [],
   "source": [
    "source_adata.obs[\"ref_or_query\"] = \"ref\"\n",
    "target_adata.obs[\"ref_or_query\"] = \"query\""
   ]
  },
  {
   "cell_type": "code",
   "execution_count": 9,
   "metadata": {},
   "outputs": [],
   "source": [
    "combined_emb = ad.concat([source_adata, target_adata])"
   ]
  },
  {
   "cell_type": "code",
   "execution_count": 10,
   "metadata": {},
   "outputs": [],
   "source": [
    "adata_all_latent = sc.AnnData(model.get_latent(combined_emb.X, combined_emb.obs[condition_key]))\n",
    "adata_all_latent.obs['cell_type'] = combined_emb.obs[cell_type_key].tolist()\n",
    "adata_all_latent.obs['batch'] = combined_emb.obs[condition_key].tolist()\n",
    "adata_all_latent.obs['ref_or_query'] = combined_emb.obs[condition_key].tolist()"
   ]
  },
  {
   "cell_type": "code",
   "execution_count": 11,
   "metadata": {},
   "outputs": [
    {
     "data": {
      "text/plain": [
       "AnnData object with n_obs × n_vars = 15681 × 1000\n",
       "    obs: 'batch', 'study', 'cell_type', 'size_factors', 'ref_or_query'"
      ]
     },
     "execution_count": 11,
     "metadata": {},
     "output_type": "execute_result"
    }
   ],
   "source": [
    "combined_emb"
   ]
  },
  {
   "cell_type": "code",
   "execution_count": 12,
   "metadata": {},
   "outputs": [
    {
     "data": {
      "text/plain": [
       "AnnData object with n_obs × n_vars = 15681 × 10\n",
       "    obs: 'cell_type', 'batch', 'ref_or_query'"
      ]
     },
     "execution_count": 12,
     "metadata": {},
     "output_type": "execute_result"
    }
   ],
   "source": [
    "adata_all_latent"
   ]
  },
  {
   "cell_type": "code",
   "execution_count": 13,
   "metadata": {},
   "outputs": [
    {
     "data": {
      "text/html": [
       "<div>\n",
       "<style scoped>\n",
       "    .dataframe tbody tr th:only-of-type {\n",
       "        vertical-align: middle;\n",
       "    }\n",
       "\n",
       "    .dataframe tbody tr th {\n",
       "        vertical-align: top;\n",
       "    }\n",
       "\n",
       "    .dataframe thead th {\n",
       "        text-align: right;\n",
       "    }\n",
       "</style>\n",
       "<table border=\"1\" class=\"dataframe\">\n",
       "  <thead>\n",
       "    <tr style=\"text-align: right;\">\n",
       "      <th></th>\n",
       "      <th>cell_type</th>\n",
       "      <th>batch</th>\n",
       "      <th>ref_or_query</th>\n",
       "    </tr>\n",
       "  </thead>\n",
       "  <tbody>\n",
       "    <tr>\n",
       "      <th>0</th>\n",
       "      <td>Pancreas Endothelial</td>\n",
       "      <td>Pancreas inDrop</td>\n",
       "      <td>Pancreas inDrop</td>\n",
       "    </tr>\n",
       "    <tr>\n",
       "      <th>1</th>\n",
       "      <td>Pancreas Acinar</td>\n",
       "      <td>Pancreas inDrop</td>\n",
       "      <td>Pancreas inDrop</td>\n",
       "    </tr>\n",
       "    <tr>\n",
       "      <th>2</th>\n",
       "      <td>Pancreas Acinar</td>\n",
       "      <td>Pancreas inDrop</td>\n",
       "      <td>Pancreas inDrop</td>\n",
       "    </tr>\n",
       "    <tr>\n",
       "      <th>3</th>\n",
       "      <td>Pancreas Acinar</td>\n",
       "      <td>Pancreas inDrop</td>\n",
       "      <td>Pancreas inDrop</td>\n",
       "    </tr>\n",
       "    <tr>\n",
       "      <th>4</th>\n",
       "      <td>Pancreas Endothelial</td>\n",
       "      <td>Pancreas inDrop</td>\n",
       "      <td>Pancreas inDrop</td>\n",
       "    </tr>\n",
       "    <tr>\n",
       "      <th>...</th>\n",
       "      <td>...</td>\n",
       "      <td>...</td>\n",
       "      <td>...</td>\n",
       "    </tr>\n",
       "    <tr>\n",
       "      <th>15676</th>\n",
       "      <td>Pancreas Gamma</td>\n",
       "      <td>Pancreas SS2</td>\n",
       "      <td>Pancreas SS2</td>\n",
       "    </tr>\n",
       "    <tr>\n",
       "      <th>15677</th>\n",
       "      <td>Pancreas Alpha</td>\n",
       "      <td>Pancreas SS2</td>\n",
       "      <td>Pancreas SS2</td>\n",
       "    </tr>\n",
       "    <tr>\n",
       "      <th>15678</th>\n",
       "      <td>Pancreas Delta</td>\n",
       "      <td>Pancreas SS2</td>\n",
       "      <td>Pancreas SS2</td>\n",
       "    </tr>\n",
       "    <tr>\n",
       "      <th>15679</th>\n",
       "      <td>Pancreas Alpha</td>\n",
       "      <td>Pancreas SS2</td>\n",
       "      <td>Pancreas SS2</td>\n",
       "    </tr>\n",
       "    <tr>\n",
       "      <th>15680</th>\n",
       "      <td>Pancreas Alpha</td>\n",
       "      <td>Pancreas SS2</td>\n",
       "      <td>Pancreas SS2</td>\n",
       "    </tr>\n",
       "  </tbody>\n",
       "</table>\n",
       "<p>15681 rows × 3 columns</p>\n",
       "</div>"
      ],
      "text/plain": [
       "                  cell_type            batch     ref_or_query\n",
       "0      Pancreas Endothelial  Pancreas inDrop  Pancreas inDrop\n",
       "1           Pancreas Acinar  Pancreas inDrop  Pancreas inDrop\n",
       "2           Pancreas Acinar  Pancreas inDrop  Pancreas inDrop\n",
       "3           Pancreas Acinar  Pancreas inDrop  Pancreas inDrop\n",
       "4      Pancreas Endothelial  Pancreas inDrop  Pancreas inDrop\n",
       "...                     ...              ...              ...\n",
       "15676        Pancreas Gamma     Pancreas SS2     Pancreas SS2\n",
       "15677        Pancreas Alpha     Pancreas SS2     Pancreas SS2\n",
       "15678        Pancreas Delta     Pancreas SS2     Pancreas SS2\n",
       "15679        Pancreas Alpha     Pancreas SS2     Pancreas SS2\n",
       "15680        Pancreas Alpha     Pancreas SS2     Pancreas SS2\n",
       "\n",
       "[15681 rows x 3 columns]"
      ]
     },
     "execution_count": 13,
     "metadata": {},
     "output_type": "execute_result"
    }
   ],
   "source": [
    "adata_all_latent.obs"
   ]
  },
  {
   "cell_type": "code",
   "execution_count": 14,
   "metadata": {},
   "outputs": [
    {
     "data": {
      "text/plain": [
       "(10294, 10)"
      ]
     },
     "execution_count": 14,
     "metadata": {},
     "output_type": "execute_result"
    }
   ],
   "source": [
    "model.get_latent().shape"
   ]
  },
  {
   "cell_type": "code",
   "execution_count": 15,
   "metadata": {},
   "outputs": [
    {
     "name": "stdout",
     "output_type": "stream",
     "text": [
      "AnnData object with n_obs × n_vars = 15681 × 10\n",
      "    obs: 'cell_type', 'batch', 'ref_or_query'\n",
      "    obsm: 'X_trVAE'\n"
     ]
    },
    {
     "name": "stderr",
     "output_type": "stream",
     "text": [
      "/home/alextopalova/miniconda3/envs/archmap/lib/python3.11/site-packages/umap/distances.py:1063: NumbaDeprecationWarning: The 'nopython' keyword argument was not supplied to the 'numba.jit' decorator. The implicit default value for this argument is currently False, but it will be changed to True in Numba 0.59.0. See https://numba.readthedocs.io/en/stable/reference/deprecation.html#deprecation-of-object-mode-fall-back-behaviour-when-using-jit for details.\n",
      "  @numba.jit()\n",
      "/home/alextopalova/miniconda3/envs/archmap/lib/python3.11/site-packages/umap/distances.py:1071: NumbaDeprecationWarning: The 'nopython' keyword argument was not supplied to the 'numba.jit' decorator. The implicit default value for this argument is currently False, but it will be changed to True in Numba 0.59.0. See https://numba.readthedocs.io/en/stable/reference/deprecation.html#deprecation-of-object-mode-fall-back-behaviour-when-using-jit for details.\n",
      "  @numba.jit()\n",
      "/home/alextopalova/miniconda3/envs/archmap/lib/python3.11/site-packages/umap/distances.py:1086: NumbaDeprecationWarning: The 'nopython' keyword argument was not supplied to the 'numba.jit' decorator. The implicit default value for this argument is currently False, but it will be changed to True in Numba 0.59.0. See https://numba.readthedocs.io/en/stable/reference/deprecation.html#deprecation-of-object-mode-fall-back-behaviour-when-using-jit for details.\n",
      "  @numba.jit()\n",
      "/home/alextopalova/miniconda3/envs/archmap/lib/python3.11/site-packages/umap/umap_.py:660: NumbaDeprecationWarning: The 'nopython' keyword argument was not supplied to the 'numba.jit' decorator. The implicit default value for this argument is currently False, but it will be changed to True in Numba 0.59.0. See https://numba.readthedocs.io/en/stable/reference/deprecation.html#deprecation-of-object-mode-fall-back-behaviour-when-using-jit for details.\n",
      "  @numba.jit()\n"
     ]
    },
    {
     "name": "stdout",
     "output_type": "stream",
     "text": [
      "       nhood_ixs_refined  nhood_kth_distance\n",
      "10                     1            1.101127\n",
      "11                     1            1.170677\n",
      "24                     1            0.924800\n",
      "30                     1            0.948773\n",
      "31                     1            1.054615\n",
      "...                  ...                 ...\n",
      "15645                  1            0.940934\n",
      "15648                  1            1.157476\n",
      "15649                  1            0.917160\n",
      "15654                  1            1.062785\n",
      "15673                  1            1.094246\n",
      "\n",
      "[1308 rows x 2 columns]\n"
     ]
    },
    {
     "ename": "RuntimeError",
     "evalue": "Install Bioconductor library `'edgeR'` first as `BiocManager::install('edgeR').`",
     "output_type": "error",
     "traceback": [
      "\u001b[0;31m---------------------------------------------------------------------------\u001b[0m",
      "\u001b[0;31mPackageNotInstalledError\u001b[0m                  Traceback (most recent call last)",
      "File \u001b[0;32m~/miniconda3/envs/archmap/lib/python3.11/site-packages/milopy/core.py:323\u001b[0m, in \u001b[0;36m_try_import_bioc_library\u001b[0;34m(name)\u001b[0m\n\u001b[1;32m    322\u001b[0m \u001b[39mtry\u001b[39;00m:\n\u001b[0;32m--> 323\u001b[0m     _r_lib \u001b[39m=\u001b[39m importr(name)\n\u001b[1;32m    324\u001b[0m     \u001b[39mreturn\u001b[39;00m _r_lib\n",
      "File \u001b[0;32m~/miniconda3/envs/archmap/lib/python3.11/site-packages/rpy2/robjects/packages.py:472\u001b[0m, in \u001b[0;36mimportr\u001b[0;34m(name, lib_loc, robject_translations, signature_translation, suppress_messages, on_conflict, symbol_r2python, symbol_resolve, data)\u001b[0m\n\u001b[1;32m    471\u001b[0m \u001b[39mif\u001b[39;00m \u001b[39mnot\u001b[39;00m isinstalled(name, lib_loc\u001b[39m=\u001b[39mlib_loc):\n\u001b[0;32m--> 472\u001b[0m     \u001b[39mraise\u001b[39;00m PackageNotInstalledError(\n\u001b[1;32m    473\u001b[0m         \u001b[39m'\u001b[39m\u001b[39mThe R package \u001b[39m\u001b[39m\"\u001b[39m\u001b[39m%s\u001b[39;00m\u001b[39m\"\u001b[39m\u001b[39m is not installed.\u001b[39m\u001b[39m'\u001b[39m \u001b[39m%\u001b[39m name\n\u001b[1;32m    474\u001b[0m     )\n\u001b[1;32m    476\u001b[0m \u001b[39mif\u001b[39;00m suppress_messages:\n",
      "\u001b[0;31mPackageNotInstalledError\u001b[0m: The R package \"edgeR\" is not installed.",
      "\nDuring handling of the above exception, another exception occurred:\n",
      "\u001b[0;31mRuntimeError\u001b[0m                              Traceback (most recent call last)",
      "Cell \u001b[0;32mIn[15], line 1\u001b[0m\n\u001b[0;32m----> 1\u001b[0m uncertainties, _, _ \u001b[39m=\u001b[39m classification_uncert_milo(adata_latent \u001b[39m=\u001b[39m adata_all_latent, cell_type_key\u001b[39m=\u001b[39m\u001b[39m\"\u001b[39m\u001b[39mcell_type\u001b[39m\u001b[39m\"\u001b[39m)\n",
      "File \u001b[0;32m/mnt/c/Helmholtz/archmap_data/scarches-api/uncert/uncert_metric.py:141\u001b[0m, in \u001b[0;36mclassification_uncert_milo\u001b[0;34m(adata_latent, cell_type_key, ref_or_query_key, ref_key, query_key, n_neighbors, sample_col, red_name, d)\u001b[0m\n\u001b[1;32m    139\u001b[0m \u001b[39m# milopy.utils.annotate_nhoods(adata_all_latent[adata_all_latent.obs[ref_or_query_key] == ref_key], cell_type_key)\u001b[39;00m\n\u001b[1;32m    140\u001b[0m adata_all_latent\u001b[39m.\u001b[39mobs[\u001b[39m\"\u001b[39m\u001b[39mis_query\u001b[39m\u001b[39m\"\u001b[39m] \u001b[39m=\u001b[39m adata_all_latent\u001b[39m.\u001b[39mobs[ref_or_query_key] \u001b[39m==\u001b[39m query_key\n\u001b[0;32m--> 141\u001b[0m milopy\u001b[39m.\u001b[39mcore\u001b[39m.\u001b[39mDA_nhoods(adata_all_latent, design\u001b[39m=\u001b[39m\u001b[39m\"\u001b[39m\u001b[39mis_query\u001b[39m\u001b[39m\"\u001b[39m)\n\u001b[1;32m    143\u001b[0m results \u001b[39m=\u001b[39m adata_all_latent\u001b[39m.\u001b[39muns[\u001b[39m\"\u001b[39m\u001b[39mnhood_adata\u001b[39m\u001b[39m\"\u001b[39m]\u001b[39m.\u001b[39mobs\n\u001b[1;32m    144\u001b[0m adata_latent\u001b[39m.\u001b[39mobsm[\u001b[39m\"\u001b[39m\u001b[39mlogFC\u001b[39m\u001b[39m\"\u001b[39m] \u001b[39m=\u001b[39m results[\u001b[39m\"\u001b[39m\u001b[39mlogFC\u001b[39m\u001b[39m\"\u001b[39m]\n",
      "File \u001b[0;32m~/miniconda3/envs/archmap/lib/python3.11/site-packages/milopy/core.py:179\u001b[0m, in \u001b[0;36mDA_nhoods\u001b[0;34m(adata, design, model_contrasts, subset_samples, add_intercept)\u001b[0m\n\u001b[1;32m    177\u001b[0m rpy2\u001b[39m.\u001b[39mrobjects\u001b[39m.\u001b[39mnumpy2ri\u001b[39m.\u001b[39mactivate()\n\u001b[1;32m    178\u001b[0m rpy2\u001b[39m.\u001b[39mrobjects\u001b[39m.\u001b[39mpandas2ri\u001b[39m.\u001b[39mactivate()\n\u001b[0;32m--> 179\u001b[0m edgeR \u001b[39m=\u001b[39m _try_import_bioc_library(\u001b[39m\"\u001b[39m\u001b[39medgeR\u001b[39m\u001b[39m\"\u001b[39m)\n\u001b[1;32m    180\u001b[0m limma \u001b[39m=\u001b[39m _try_import_bioc_library(\u001b[39m\"\u001b[39m\u001b[39mlimma\u001b[39m\u001b[39m\"\u001b[39m)\n\u001b[1;32m    181\u001b[0m stats \u001b[39m=\u001b[39m importr(\u001b[39m\"\u001b[39m\u001b[39mstats\u001b[39m\u001b[39m\"\u001b[39m)\n",
      "File \u001b[0;32m~/miniconda3/envs/archmap/lib/python3.11/site-packages/milopy/core.py:326\u001b[0m, in \u001b[0;36m_try_import_bioc_library\u001b[0;34m(name)\u001b[0m\n\u001b[1;32m    324\u001b[0m     \u001b[39mreturn\u001b[39;00m _r_lib\n\u001b[1;32m    325\u001b[0m \u001b[39mexcept\u001b[39;00m PackageNotInstalledError:\n\u001b[0;32m--> 326\u001b[0m     \u001b[39mraise\u001b[39;00m \u001b[39mRuntimeError\u001b[39;00m(\n\u001b[1;32m    327\u001b[0m         \u001b[39mf\u001b[39m\u001b[39m\"\u001b[39m\u001b[39mInstall Bioconductor library `\u001b[39m\u001b[39m{\u001b[39;00mname\u001b[39m!r}\u001b[39;00m\u001b[39m` first as `BiocManager::install(\u001b[39m\u001b[39m{\u001b[39;00mname\u001b[39m!r}\u001b[39;00m\u001b[39m).`\u001b[39m\u001b[39m\"\u001b[39m\n\u001b[1;32m    328\u001b[0m     )\n",
      "\u001b[0;31mRuntimeError\u001b[0m: Install Bioconductor library `'edgeR'` first as `BiocManager::install('edgeR').`"
     ]
    }
   ],
   "source": [
    "uncertainties, _, _ = classification_uncert_milo(adata_latent = adata_all_latent, cell_type_key=\"cell_type\")"
   ]
  },
  {
   "cell_type": "code",
   "execution_count": null,
   "metadata": {},
   "outputs": [],
   "source": [
    "uncertainties"
   ]
  },
  {
   "attachments": {},
   "cell_type": "markdown",
   "metadata": {},
   "source": [
    "# Pancreas no alpha cells in reference"
   ]
  },
  {
   "cell_type": "code",
   "execution_count": null,
   "metadata": {},
   "outputs": [],
   "source": [
    "condition_key = 'study'\n",
    "cell_type_key = 'cell_type'\n",
    "source_adata = sc.read(\"source/source__pancreas_no_alpha.h5ad\")\n",
    "target_adata = sc.read(\"target/target__pancreas_no_alpha.h5ad\")\n",
    "surgery_path = \"surgery_model/surgery_model_pancreas_no_alpha\""
   ]
  },
  {
   "cell_type": "code",
   "execution_count": null,
   "metadata": {},
   "outputs": [],
   "source": [
    "model = sca.models.TRVAE.load(surgery_path, source_adata)"
   ]
  },
  {
   "cell_type": "code",
   "execution_count": null,
   "metadata": {},
   "outputs": [],
   "source": [
    "combined_emb = ad.concat([source_adata, target_adata])"
   ]
  },
  {
   "cell_type": "code",
   "execution_count": null,
   "metadata": {},
   "outputs": [],
   "source": [
    "adata_all_latent = sc.AnnData(model.get_latent(combined_emb.X, combined_emb.obs[condition_key]))\n",
    "adata_all_latent.obs['cell_type'] = combined_emb.obs[cell_type_key].tolist()\n",
    "adata_all_latent.obs['batch'] = combined_emb.obs[condition_key].tolist()"
   ]
  },
  {
   "cell_type": "code",
   "execution_count": null,
   "metadata": {},
   "outputs": [],
   "source": [
    "uncertainties, _, _ = classification_uncert_milo(adata= combined_emb, adata_latent=adata_all_latent, cell_type_key=\"cell_type\")"
   ]
  },
  {
   "cell_type": "code",
   "execution_count": null,
   "metadata": {},
   "outputs": [],
   "source": [
    "uncertainties"
   ]
  },
  {
   "attachments": {},
   "cell_type": "markdown",
   "metadata": {},
   "source": [
    "# PBMC normal"
   ]
  },
  {
   "cell_type": "code",
   "execution_count": null,
   "metadata": {},
   "outputs": [],
   "source": [
    "condition_key = 'batch' \n",
    "cell_type_key = 'final_annotation'\n",
    "source_adata = sc.read(\"source/source__pbmc.h5ad\")\n",
    "target_adata = sc.read(\"target/target__pbmc.h5ad\")\n",
    "surgery_path = \"surgery_model/surgery_model_pbmc\""
   ]
  },
  {
   "cell_type": "code",
   "execution_count": null,
   "metadata": {},
   "outputs": [],
   "source": [
    "model = sca.models.TRVAE.load(surgery_path, source_adata)"
   ]
  },
  {
   "cell_type": "code",
   "execution_count": null,
   "metadata": {},
   "outputs": [],
   "source": [
    "combined_emb = ad.concat([source_adata, target_adata])"
   ]
  },
  {
   "cell_type": "code",
   "execution_count": null,
   "metadata": {},
   "outputs": [],
   "source": [
    "adata_all_latent = sc.AnnData(model.get_latent(combined_emb.X, combined_emb.obs[condition_key]))\n",
    "adata_all_latent.obs['cell_type'] = combined_emb.obs[cell_type_key].tolist()\n",
    "adata_all_latent.obs['batch'] = combined_emb.obs[condition_key].tolist()"
   ]
  },
  {
   "cell_type": "code",
   "execution_count": null,
   "metadata": {},
   "outputs": [],
   "source": [
    "uncertainties, _, _ = classification_uncert_milo(adata= combined_emb, adata_latent=adata_all_latent, cell_type_key=\"cell_type\")"
   ]
  },
  {
   "cell_type": "code",
   "execution_count": null,
   "metadata": {},
   "outputs": [],
   "source": [
    "uncertainties"
   ]
  },
  {
   "attachments": {},
   "cell_type": "markdown",
   "metadata": {},
   "source": [
    "# PBMC 10X and Villani"
   ]
  },
  {
   "cell_type": "code",
   "execution_count": null,
   "metadata": {},
   "outputs": [],
   "source": [
    "condition_key = 'batch' \n",
    "cell_type_key = 'final_annotation'\n",
    "source_adata = sc.read(\"source/source__pbmc_10x_villani.h5ad\")\n",
    "target_adata = sc.read(\"target/target__pbmc_10x_villani.h5ad\")\n",
    "surgery_path = \"surgery_model/surgery_model_pbmc_10x_villani\""
   ]
  },
  {
   "cell_type": "code",
   "execution_count": null,
   "metadata": {},
   "outputs": [],
   "source": [
    "model = sca.models.TRVAE.load(surgery_path, source_adata)"
   ]
  },
  {
   "cell_type": "code",
   "execution_count": null,
   "metadata": {},
   "outputs": [],
   "source": [
    "combined_emb = ad.concat([source_adata, target_adata])"
   ]
  },
  {
   "cell_type": "code",
   "execution_count": null,
   "metadata": {},
   "outputs": [],
   "source": [
    "combined_emb.obs.batch.unique()"
   ]
  },
  {
   "cell_type": "code",
   "execution_count": null,
   "metadata": {},
   "outputs": [],
   "source": [
    "adata_all_latent = sc.AnnData(model.get_latent(combined_emb.X, combined_emb.obs[condition_key]))\n",
    "adata_all_latent.obs['cell_type'] = combined_emb.obs[cell_type_key].tolist()\n",
    "adata_all_latent.obs['batch'] = combined_emb.obs[condition_key].tolist()"
   ]
  },
  {
   "cell_type": "code",
   "execution_count": null,
   "metadata": {},
   "outputs": [],
   "source": [
    "uncertainties, _, _ = classification_uncert_milo(adata= combined_emb, adata_latent=adata_all_latent, cell_type_key=\"cell_type\")"
   ]
  },
  {
   "cell_type": "code",
   "execution_count": null,
   "metadata": {},
   "outputs": [],
   "source": [
    "uncertainties"
   ]
  }
 ],
 "metadata": {
  "kernelspec": {
   "display_name": "archmap",
   "language": "python",
   "name": "python3"
  },
  "language_info": {
   "codemirror_mode": {
    "name": "ipython",
    "version": 3
   },
   "file_extension": ".py",
   "mimetype": "text/x-python",
   "name": "python",
   "nbconvert_exporter": "python",
   "pygments_lexer": "ipython3",
   "version": "3.11.4"
  },
  "orig_nbformat": 4
 },
 "nbformat": 4,
 "nbformat_minor": 2
}
