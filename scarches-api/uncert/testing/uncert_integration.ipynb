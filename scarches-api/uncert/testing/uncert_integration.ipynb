{
 "cells": [
  {
   "cell_type": "code",
   "execution_count": 1,
   "metadata": {},
   "outputs": [],
   "source": [
    "import os\n",
    "os.chdir('../')\n",
    "import warnings\n",
    "warnings.simplefilter(action='ignore', category=FutureWarning)\n",
    "warnings.simplefilter(action='ignore', category=UserWarning)"
   ]
  },
  {
   "cell_type": "code",
   "execution_count": 2,
   "metadata": {},
   "outputs": [
    {
     "name": "stderr",
     "output_type": "stream",
     "text": [
      "WARNING:root:In order to use the mouse gastrulation seqFISH datsets, please install squidpy (see https://github.com/scverse/squidpy).\n",
      "WARNING:root:In order to use sagenet models, please install pytorch geometric (see https://pytorch-geometric.readthedocs.io) and \n",
      " captum (see https://github.com/pytorch/captum).\n",
      "INFO:lightning_fabric.utilities.seed:Global seed set to 0\n",
      "/home/alextopalova/miniconda3/envs/archmap/lib/python3.11/site-packages/tqdm/auto.py:21: TqdmWarning: IProgress not found. Please update jupyter and ipywidgets. See https://ipywidgets.readthedocs.io/en/stable/user_install.html\n",
      "  from .autonotebook import tqdm as notebook_tqdm\n",
      "WARNING:root:mvTCR is not installed. To use mvTCR models, please install it first using \"pip install mvtcr\"\n",
      "WARNING:root:multigrate is not installed. To use multigrate models, please install it first using \"pip install multigrate\".\n"
     ]
    }
   ],
   "source": [
    "import scanpy as sc\n",
    "import torch\n",
    "import scarches as sca\n",
    "from scarches.dataset.trvae.data_handling import remove_sparsity\n",
    "import matplotlib.pyplot as plt\n",
    "import numpy as np\n",
    "import gdown\n",
    "import anndata as ad\n",
    "import pandas as pd"
   ]
  },
  {
   "cell_type": "code",
   "execution_count": 3,
   "metadata": {},
   "outputs": [],
   "source": [
    "from uncert_metric import *"
   ]
  },
  {
   "cell_type": "code",
   "execution_count": 4,
   "metadata": {},
   "outputs": [],
   "source": [
    "sc.settings.set_figure_params(dpi=200, frameon=False)\n",
    "sc.set_figure_params(dpi=200)\n",
    "sc.set_figure_params(figsize=(12, 3))\n",
    "torch.set_printoptions(precision=3, sci_mode=False, edgeitems=7)"
   ]
  },
  {
   "attachments": {},
   "cell_type": "markdown",
   "metadata": {},
   "source": [
    "# Pancreas normal"
   ]
  },
  {
   "cell_type": "code",
   "execution_count": 5,
   "metadata": {},
   "outputs": [],
   "source": [
    "condition_key = 'study'\n",
    "cell_type_key = 'cell_type'\n",
    "source_adata = sc.read(\"source/source__pancreas.h5ad\")\n",
    "target_adata = sc.read(\"target/target__pancreas.h5ad\")\n",
    "surgery_path = \"surgery_model/surgery_model_pancreas\""
   ]
  },
  {
   "cell_type": "code",
   "execution_count": 6,
   "metadata": {},
   "outputs": [
    {
     "name": "stdout",
     "output_type": "stream",
     "text": [
      "AnnData object with n_obs × n_vars = 10294 × 1000\n",
      "    obs: 'batch', 'study', 'cell_type', 'size_factors'\n",
      "\n",
      "INITIALIZING NEW NETWORK..............\n",
      "Encoder Architecture:\n",
      "\tInput Layer in, out and cond: 1000 128 5\n",
      "\tHidden Layer 1 in/out: 128 128\n",
      "\tMean/Var Layer in/out: 128 10\n",
      "Decoder Architecture:\n",
      "\tFirst Layer in, out and cond:  10 128 5\n",
      "\tHidden Layer 1 in/out: 128 128\n",
      "\tOutput Layer in/out:  128 1000 \n",
      "\n"
     ]
    }
   ],
   "source": [
    "model = sca.models.TRVAE.load(surgery_path, source_adata)"
   ]
  },
  {
   "cell_type": "code",
   "execution_count": 7,
   "metadata": {},
   "outputs": [],
   "source": [
    "combined_emb = ad.concat([source_adata, target_adata])"
   ]
  },
  {
   "cell_type": "code",
   "execution_count": 8,
   "metadata": {},
   "outputs": [],
   "source": [
    "adata_all_latent = sc.AnnData(model.get_latent(combined_emb.X, combined_emb.obs[condition_key]))\n",
    "adata_all_latent.obs['cell_type'] = combined_emb.obs[cell_type_key].tolist()\n",
    "adata_all_latent.obs['batch'] = combined_emb.obs[condition_key].tolist()"
   ]
  },
  {
   "cell_type": "code",
   "execution_count": 9,
   "metadata": {},
   "outputs": [],
   "source": [
    "uncertainties = integration_uncertain(\n",
    "    adata_latent = adata_all_latent,\n",
    "    batch_key = \"batch\"\n",
    ")"
   ]
  },
  {
   "cell_type": "code",
   "execution_count": 10,
   "metadata": {},
   "outputs": [
    {
     "data": {
      "text/html": [
       "<div>\n",
       "<style scoped>\n",
       "    .dataframe tbody tr th:only-of-type {\n",
       "        vertical-align: middle;\n",
       "    }\n",
       "\n",
       "    .dataframe tbody tr th {\n",
       "        vertical-align: top;\n",
       "    }\n",
       "\n",
       "    .dataframe thead th {\n",
       "        text-align: right;\n",
       "    }\n",
       "</style>\n",
       "<table border=\"1\" class=\"dataframe\">\n",
       "  <thead>\n",
       "    <tr style=\"text-align: right;\">\n",
       "      <th></th>\n",
       "      <th>batch</th>\n",
       "      <th>uncertainty</th>\n",
       "    </tr>\n",
       "  </thead>\n",
       "  <tbody>\n",
       "    <tr>\n",
       "      <th>0</th>\n",
       "      <td>Pancreas CelSeq</td>\n",
       "      <td>0.432623</td>\n",
       "    </tr>\n",
       "    <tr>\n",
       "      <th>1</th>\n",
       "      <td>Pancreas CelSeq2</td>\n",
       "      <td>0.469310</td>\n",
       "    </tr>\n",
       "    <tr>\n",
       "      <th>2</th>\n",
       "      <td>Pancreas Fluidigm C1</td>\n",
       "      <td>0.547337</td>\n",
       "    </tr>\n",
       "    <tr>\n",
       "      <th>3</th>\n",
       "      <td>Pancreas SS2</td>\n",
       "      <td>0.535464</td>\n",
       "    </tr>\n",
       "    <tr>\n",
       "      <th>4</th>\n",
       "      <td>Pancreas inDrop</td>\n",
       "      <td>0.731403</td>\n",
       "    </tr>\n",
       "  </tbody>\n",
       "</table>\n",
       "</div>"
      ],
      "text/plain": [
       "                  batch  uncertainty\n",
       "0       Pancreas CelSeq     0.432623\n",
       "1      Pancreas CelSeq2     0.469310\n",
       "2  Pancreas Fluidigm C1     0.547337\n",
       "3          Pancreas SS2     0.535464\n",
       "4       Pancreas inDrop     0.731403"
      ]
     },
     "execution_count": 10,
     "metadata": {},
     "output_type": "execute_result"
    }
   ],
   "source": [
    "uncertainties"
   ]
  },
  {
   "attachments": {},
   "cell_type": "markdown",
   "metadata": {},
   "source": [
    "# Pancreas no alpha cells in reference"
   ]
  },
  {
   "cell_type": "code",
   "execution_count": 11,
   "metadata": {},
   "outputs": [],
   "source": [
    "condition_key = 'study'\n",
    "cell_type_key = 'cell_type'\n",
    "source_adata = sc.read(\"source/source__pancreas_no_alpha.h5ad\")\n",
    "target_adata = sc.read(\"target/target__pancreas_no_alpha.h5ad\")\n",
    "surgery_path = \"surgery_model/surgery_model_pancreas_no_alpha\""
   ]
  },
  {
   "cell_type": "code",
   "execution_count": 12,
   "metadata": {},
   "outputs": [
    {
     "name": "stdout",
     "output_type": "stream",
     "text": [
      "AnnData object with n_obs × n_vars = 7584 × 1000\n",
      "    obs: 'batch', 'study', 'cell_type', 'size_factors'\n",
      "\n",
      "INITIALIZING NEW NETWORK..............\n",
      "Encoder Architecture:\n",
      "\tInput Layer in, out and cond: 1000 128 5\n",
      "\tHidden Layer 1 in/out: 128 128\n",
      "\tMean/Var Layer in/out: 128 10\n",
      "Decoder Architecture:\n",
      "\tFirst Layer in, out and cond:  10 128 5\n",
      "\tHidden Layer 1 in/out: 128 128\n",
      "\tOutput Layer in/out:  128 1000 \n",
      "\n"
     ]
    }
   ],
   "source": [
    "model = sca.models.TRVAE.load(surgery_path, source_adata)"
   ]
  },
  {
   "cell_type": "code",
   "execution_count": 13,
   "metadata": {},
   "outputs": [],
   "source": [
    "combined_emb = ad.concat([source_adata, target_adata])"
   ]
  },
  {
   "cell_type": "code",
   "execution_count": 14,
   "metadata": {},
   "outputs": [],
   "source": [
    "adata_all_latent = sc.AnnData(model.get_latent(combined_emb.X, combined_emb.obs[condition_key]))\n",
    "adata_all_latent.obs['cell_type'] = combined_emb.obs[cell_type_key].tolist()\n",
    "adata_all_latent.obs['batch'] = combined_emb.obs[condition_key].tolist()"
   ]
  },
  {
   "cell_type": "code",
   "execution_count": 15,
   "metadata": {},
   "outputs": [],
   "source": [
    "uncertainties = integration_uncertain(\n",
    "    adata_latent = adata_all_latent,\n",
    "    batch_key = \"batch\"\n",
    ")"
   ]
  },
  {
   "cell_type": "code",
   "execution_count": 16,
   "metadata": {},
   "outputs": [
    {
     "data": {
      "text/html": [
       "<div>\n",
       "<style scoped>\n",
       "    .dataframe tbody tr th:only-of-type {\n",
       "        vertical-align: middle;\n",
       "    }\n",
       "\n",
       "    .dataframe tbody tr th {\n",
       "        vertical-align: top;\n",
       "    }\n",
       "\n",
       "    .dataframe thead th {\n",
       "        text-align: right;\n",
       "    }\n",
       "</style>\n",
       "<table border=\"1\" class=\"dataframe\">\n",
       "  <thead>\n",
       "    <tr style=\"text-align: right;\">\n",
       "      <th></th>\n",
       "      <th>batch</th>\n",
       "      <th>uncertainty</th>\n",
       "    </tr>\n",
       "  </thead>\n",
       "  <tbody>\n",
       "    <tr>\n",
       "      <th>0</th>\n",
       "      <td>Pancreas CelSeq</td>\n",
       "      <td>0.441650</td>\n",
       "    </tr>\n",
       "    <tr>\n",
       "      <th>1</th>\n",
       "      <td>Pancreas CelSeq2</td>\n",
       "      <td>0.516713</td>\n",
       "    </tr>\n",
       "    <tr>\n",
       "      <th>2</th>\n",
       "      <td>Pancreas Fluidigm C1</td>\n",
       "      <td>0.507102</td>\n",
       "    </tr>\n",
       "    <tr>\n",
       "      <th>3</th>\n",
       "      <td>Pancreas SS2</td>\n",
       "      <td>0.572792</td>\n",
       "    </tr>\n",
       "    <tr>\n",
       "      <th>4</th>\n",
       "      <td>Pancreas inDrop</td>\n",
       "      <td>0.704851</td>\n",
       "    </tr>\n",
       "  </tbody>\n",
       "</table>\n",
       "</div>"
      ],
      "text/plain": [
       "                  batch  uncertainty\n",
       "0       Pancreas CelSeq     0.441650\n",
       "1      Pancreas CelSeq2     0.516713\n",
       "2  Pancreas Fluidigm C1     0.507102\n",
       "3          Pancreas SS2     0.572792\n",
       "4       Pancreas inDrop     0.704851"
      ]
     },
     "execution_count": 16,
     "metadata": {},
     "output_type": "execute_result"
    }
   ],
   "source": [
    "uncertainties"
   ]
  },
  {
   "attachments": {},
   "cell_type": "markdown",
   "metadata": {},
   "source": [
    "# PBMC normal"
   ]
  },
  {
   "cell_type": "code",
   "execution_count": 17,
   "metadata": {},
   "outputs": [],
   "source": [
    "condition_key = 'batch' \n",
    "cell_type_key = 'final_annotation'\n",
    "source_adata = sc.read(\"source/source__pbmc.h5ad\")\n",
    "target_adata = sc.read(\"target/target__pbmc.h5ad\")\n",
    "surgery_path = \"surgery_model/surgery_model_pbmc\""
   ]
  },
  {
   "cell_type": "code",
   "execution_count": 18,
   "metadata": {},
   "outputs": [
    {
     "name": "stdout",
     "output_type": "stream",
     "text": [
      "AnnData object with n_obs × n_vars = 29195 × 12303\n",
      "    obs: 'batch', 'chemistry', 'data_type', 'dpt_pseudotime', 'final_annotation', 'mt_frac', 'n_counts', 'n_genes', 'sample_ID', 'size_factors', 'species', 'study', 'tissue'\n",
      "    layers: 'counts'\n",
      "\n",
      "INITIALIZING NEW NETWORK..............\n",
      "Encoder Architecture:\n",
      "\tInput Layer in, out and cond: 12303 128 10\n",
      "\tHidden Layer 1 in/out: 128 128\n",
      "\tMean/Var Layer in/out: 128 10\n",
      "Decoder Architecture:\n",
      "\tFirst Layer in, out and cond:  10 128 10\n",
      "\tHidden Layer 1 in/out: 128 128\n",
      "\tOutput Layer in/out:  128 12303 \n",
      "\n"
     ]
    }
   ],
   "source": [
    "model = sca.models.TRVAE.load(surgery_path, source_adata)"
   ]
  },
  {
   "cell_type": "code",
   "execution_count": 19,
   "metadata": {},
   "outputs": [],
   "source": [
    "combined_emb = ad.concat([source_adata, target_adata])"
   ]
  },
  {
   "cell_type": "code",
   "execution_count": 20,
   "metadata": {},
   "outputs": [],
   "source": [
    "adata_all_latent = sc.AnnData(model.get_latent(combined_emb.X, combined_emb.obs[condition_key]))\n",
    "adata_all_latent.obs['cell_type'] = combined_emb.obs[cell_type_key].tolist()\n",
    "adata_all_latent.obs['batch'] = combined_emb.obs[condition_key].tolist()"
   ]
  },
  {
   "cell_type": "code",
   "execution_count": 21,
   "metadata": {},
   "outputs": [],
   "source": [
    "uncertainties = integration_uncertain(\n",
    "    adata_latent = adata_all_latent,\n",
    "    batch_key = \"batch\"\n",
    ")"
   ]
  },
  {
   "cell_type": "code",
   "execution_count": 22,
   "metadata": {},
   "outputs": [
    {
     "data": {
      "text/html": [
       "<div>\n",
       "<style scoped>\n",
       "    .dataframe tbody tr th:only-of-type {\n",
       "        vertical-align: middle;\n",
       "    }\n",
       "\n",
       "    .dataframe tbody tr th {\n",
       "        vertical-align: top;\n",
       "    }\n",
       "\n",
       "    .dataframe thead th {\n",
       "        text-align: right;\n",
       "    }\n",
       "</style>\n",
       "<table border=\"1\" class=\"dataframe\">\n",
       "  <thead>\n",
       "    <tr style=\"text-align: right;\">\n",
       "      <th></th>\n",
       "      <th>batch</th>\n",
       "      <th>uncertainty</th>\n",
       "    </tr>\n",
       "  </thead>\n",
       "  <tbody>\n",
       "    <tr>\n",
       "      <th>0</th>\n",
       "      <td>10X</td>\n",
       "      <td>0.507625</td>\n",
       "    </tr>\n",
       "    <tr>\n",
       "      <th>1</th>\n",
       "      <td>Freytag</td>\n",
       "      <td>0.368994</td>\n",
       "    </tr>\n",
       "    <tr>\n",
       "      <th>2</th>\n",
       "      <td>Oetjen_A</td>\n",
       "      <td>0.425745</td>\n",
       "    </tr>\n",
       "    <tr>\n",
       "      <th>3</th>\n",
       "      <td>Oetjen_P</td>\n",
       "      <td>0.566131</td>\n",
       "    </tr>\n",
       "    <tr>\n",
       "      <th>4</th>\n",
       "      <td>Oetjen_U</td>\n",
       "      <td>0.397591</td>\n",
       "    </tr>\n",
       "    <tr>\n",
       "      <th>5</th>\n",
       "      <td>Sun_sample1_CS</td>\n",
       "      <td>0.323841</td>\n",
       "    </tr>\n",
       "    <tr>\n",
       "      <th>6</th>\n",
       "      <td>Sun_sample2_KC</td>\n",
       "      <td>0.373243</td>\n",
       "    </tr>\n",
       "    <tr>\n",
       "      <th>7</th>\n",
       "      <td>Sun_sample3_TB</td>\n",
       "      <td>0.340446</td>\n",
       "    </tr>\n",
       "    <tr>\n",
       "      <th>8</th>\n",
       "      <td>Sun_sample4_TC</td>\n",
       "      <td>0.350094</td>\n",
       "    </tr>\n",
       "    <tr>\n",
       "      <th>9</th>\n",
       "      <td>Villani</td>\n",
       "      <td>0.426731</td>\n",
       "    </tr>\n",
       "  </tbody>\n",
       "</table>\n",
       "</div>"
      ],
      "text/plain": [
       "            batch  uncertainty\n",
       "0             10X     0.507625\n",
       "1         Freytag     0.368994\n",
       "2        Oetjen_A     0.425745\n",
       "3        Oetjen_P     0.566131\n",
       "4        Oetjen_U     0.397591\n",
       "5  Sun_sample1_CS     0.323841\n",
       "6  Sun_sample2_KC     0.373243\n",
       "7  Sun_sample3_TB     0.340446\n",
       "8  Sun_sample4_TC     0.350094\n",
       "9         Villani     0.426731"
      ]
     },
     "execution_count": 22,
     "metadata": {},
     "output_type": "execute_result"
    }
   ],
   "source": [
    "uncertainties"
   ]
  },
  {
   "attachments": {},
   "cell_type": "markdown",
   "metadata": {},
   "source": [
    "# PBMC 10X and Villani"
   ]
  },
  {
   "cell_type": "code",
   "execution_count": 23,
   "metadata": {},
   "outputs": [],
   "source": [
    "condition_key = 'batch' \n",
    "cell_type_key = 'final_annotation'\n",
    "source_adata = sc.read(\"source/source__pbmc_10x_villani.h5ad\")\n",
    "target_adata = sc.read(\"target/target__pbmc_10x_villani.h5ad\")\n",
    "surgery_path = \"surgery_model/surgery_model_pbmc_10x_villani\""
   ]
  },
  {
   "cell_type": "code",
   "execution_count": 24,
   "metadata": {},
   "outputs": [
    {
     "name": "stdout",
     "output_type": "stream",
     "text": [
      "AnnData object with n_obs × n_vars = 21757 × 12303\n",
      "    obs: 'batch', 'chemistry', 'data_type', 'dpt_pseudotime', 'final_annotation', 'mt_frac', 'n_counts', 'n_genes', 'sample_ID', 'size_factors', 'species', 'study', 'tissue'\n",
      "    layers: 'counts'\n",
      "\n",
      "INITIALIZING NEW NETWORK..............\n",
      "Encoder Architecture:\n",
      "\tInput Layer in, out and cond: 12303 128 10\n",
      "\tHidden Layer 1 in/out: 128 128\n",
      "\tMean/Var Layer in/out: 128 10\n",
      "Decoder Architecture:\n",
      "\tFirst Layer in, out and cond:  10 128 10\n",
      "\tHidden Layer 1 in/out: 128 128\n",
      "\tOutput Layer in/out:  128 12303 \n",
      "\n"
     ]
    }
   ],
   "source": [
    "model = sca.models.TRVAE.load(surgery_path, source_adata)"
   ]
  },
  {
   "cell_type": "code",
   "execution_count": 25,
   "metadata": {},
   "outputs": [],
   "source": [
    "combined_emb = ad.concat([source_adata, target_adata])"
   ]
  },
  {
   "cell_type": "code",
   "execution_count": 26,
   "metadata": {},
   "outputs": [
    {
     "data": {
      "text/plain": [
       "['Oetjen_A', 'Oetjen_P', 'Oetjen_U', 'Freytag', 'Sun_sample1_CS', 'Sun_sample2_KC', 'Sun_sample3_TB', 'Sun_sample4_TC', '10X', 'Villani']\n",
       "Categories (10, object): ['10X', 'Freytag', 'Oetjen_A', 'Oetjen_P', ..., 'Sun_sample2_KC', 'Sun_sample3_TB', 'Sun_sample4_TC', 'Villani']"
      ]
     },
     "execution_count": 26,
     "metadata": {},
     "output_type": "execute_result"
    }
   ],
   "source": [
    "combined_emb.obs.batch.unique()"
   ]
  },
  {
   "cell_type": "code",
   "execution_count": 27,
   "metadata": {},
   "outputs": [],
   "source": [
    "adata_all_latent = sc.AnnData(model.get_latent(combined_emb.X, combined_emb.obs[condition_key]))\n",
    "adata_all_latent.obs['cell_type'] = combined_emb.obs[cell_type_key].tolist()\n",
    "adata_all_latent.obs['batch'] = combined_emb.obs[condition_key].tolist()"
   ]
  },
  {
   "cell_type": "code",
   "execution_count": 28,
   "metadata": {},
   "outputs": [],
   "source": [
    "uncertainties = integration_uncertain(\n",
    "    adata_latent = adata_all_latent,\n",
    "    batch_key = \"batch\"\n",
    ")"
   ]
  },
  {
   "cell_type": "code",
   "execution_count": 29,
   "metadata": {},
   "outputs": [
    {
     "data": {
      "text/html": [
       "<div>\n",
       "<style scoped>\n",
       "    .dataframe tbody tr th:only-of-type {\n",
       "        vertical-align: middle;\n",
       "    }\n",
       "\n",
       "    .dataframe tbody tr th {\n",
       "        vertical-align: top;\n",
       "    }\n",
       "\n",
       "    .dataframe thead th {\n",
       "        text-align: right;\n",
       "    }\n",
       "</style>\n",
       "<table border=\"1\" class=\"dataframe\">\n",
       "  <thead>\n",
       "    <tr style=\"text-align: right;\">\n",
       "      <th></th>\n",
       "      <th>batch</th>\n",
       "      <th>uncertainty</th>\n",
       "    </tr>\n",
       "  </thead>\n",
       "  <tbody>\n",
       "    <tr>\n",
       "      <th>0</th>\n",
       "      <td>10X</td>\n",
       "      <td>0.747901</td>\n",
       "    </tr>\n",
       "    <tr>\n",
       "      <th>1</th>\n",
       "      <td>Freytag</td>\n",
       "      <td>0.303968</td>\n",
       "    </tr>\n",
       "    <tr>\n",
       "      <th>2</th>\n",
       "      <td>Oetjen_A</td>\n",
       "      <td>0.374289</td>\n",
       "    </tr>\n",
       "    <tr>\n",
       "      <th>3</th>\n",
       "      <td>Oetjen_P</td>\n",
       "      <td>0.519982</td>\n",
       "    </tr>\n",
       "    <tr>\n",
       "      <th>4</th>\n",
       "      <td>Oetjen_U</td>\n",
       "      <td>0.342132</td>\n",
       "    </tr>\n",
       "    <tr>\n",
       "      <th>5</th>\n",
       "      <td>Sun_sample1_CS</td>\n",
       "      <td>0.289981</td>\n",
       "    </tr>\n",
       "    <tr>\n",
       "      <th>6</th>\n",
       "      <td>Sun_sample2_KC</td>\n",
       "      <td>0.290434</td>\n",
       "    </tr>\n",
       "    <tr>\n",
       "      <th>7</th>\n",
       "      <td>Sun_sample3_TB</td>\n",
       "      <td>0.288099</td>\n",
       "    </tr>\n",
       "    <tr>\n",
       "      <th>8</th>\n",
       "      <td>Sun_sample4_TC</td>\n",
       "      <td>0.295105</td>\n",
       "    </tr>\n",
       "    <tr>\n",
       "      <th>9</th>\n",
       "      <td>Villani</td>\n",
       "      <td>0.719309</td>\n",
       "    </tr>\n",
       "  </tbody>\n",
       "</table>\n",
       "</div>"
      ],
      "text/plain": [
       "            batch  uncertainty\n",
       "0             10X     0.747901\n",
       "1         Freytag     0.303968\n",
       "2        Oetjen_A     0.374289\n",
       "3        Oetjen_P     0.519982\n",
       "4        Oetjen_U     0.342132\n",
       "5  Sun_sample1_CS     0.289981\n",
       "6  Sun_sample2_KC     0.290434\n",
       "7  Sun_sample3_TB     0.288099\n",
       "8  Sun_sample4_TC     0.295105\n",
       "9         Villani     0.719309"
      ]
     },
     "execution_count": 29,
     "metadata": {},
     "output_type": "execute_result"
    }
   ],
   "source": [
    "uncertainties"
   ]
  }
 ],
 "metadata": {
  "kernelspec": {
   "display_name": "archmap",
   "language": "python",
   "name": "python3"
  },
  "language_info": {
   "codemirror_mode": {
    "name": "ipython",
    "version": 3
   },
   "file_extension": ".py",
   "mimetype": "text/x-python",
   "name": "python",
   "nbconvert_exporter": "python",
   "pygments_lexer": "ipython3",
   "version": "3.11.3"
  },
  "orig_nbformat": 4
 },
 "nbformat": 4,
 "nbformat_minor": 2
}
