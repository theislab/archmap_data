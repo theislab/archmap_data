{
 "cells": [
  {
   "cell_type": "code",
   "execution_count": 1,
   "metadata": {},
   "outputs": [],
   "source": [
    "import os\n",
    "os.chdir('../')\n",
    "import warnings\n",
    "warnings.simplefilter(action='ignore', category=FutureWarning)\n",
    "warnings.simplefilter(action='ignore', category=UserWarning)"
   ]
  },
  {
   "cell_type": "code",
   "execution_count": 2,
   "metadata": {},
   "outputs": [
    {
     "name": "stderr",
     "output_type": "stream",
     "text": [
      "WARNING:root:In order to use the mouse gastrulation seqFISH datsets, please install squidpy (see https://github.com/scverse/squidpy).\n",
      "WARNING:root:In order to use sagenet models, please install pytorch geometric (see https://pytorch-geometric.readthedocs.io) and \n",
      " captum (see https://github.com/pytorch/captum).\n",
      "INFO:lightning_fabric.utilities.seed:Global seed set to 0\n",
      "/home/alextopalova/miniconda3/envs/archmap/lib/python3.11/site-packages/tqdm/auto.py:21: TqdmWarning: IProgress not found. Please update jupyter and ipywidgets. See https://ipywidgets.readthedocs.io/en/stable/user_install.html\n",
      "  from .autonotebook import tqdm as notebook_tqdm\n",
      "WARNING:root:mvTCR is not installed. To use mvTCR models, please install it first using \"pip install mvtcr\"\n",
      "WARNING:root:multigrate is not installed. To use multigrate models, please install it first using \"pip install multigrate\".\n"
     ]
    }
   ],
   "source": [
    "import scanpy as sc\n",
    "import torch\n",
    "import scarches as sca\n",
    "from scarches.dataset.trvae.data_handling import remove_sparsity\n",
    "import matplotlib.pyplot as plt\n",
    "import numpy as np\n",
    "import gdown\n",
    "import anndata as ad\n",
    "import pandas as pd\n",
    "\n",
    "import milopy"
   ]
  },
  {
   "cell_type": "code",
   "execution_count": 3,
   "metadata": {},
   "outputs": [],
   "source": [
    "from uncert_metric import *"
   ]
  },
  {
   "cell_type": "code",
   "execution_count": 4,
   "metadata": {},
   "outputs": [],
   "source": [
    "sc.settings.set_figure_params(dpi=200, frameon=False)\n",
    "sc.set_figure_params(dpi=200)\n",
    "sc.set_figure_params(figsize=(12, 3))\n",
    "torch.set_printoptions(precision=3, sci_mode=False, edgeitems=7)"
   ]
  },
  {
   "attachments": {},
   "cell_type": "markdown",
   "metadata": {},
   "source": [
    "# Pancreas normal"
   ]
  },
  {
   "cell_type": "code",
   "execution_count": 5,
   "metadata": {},
   "outputs": [],
   "source": [
    "condition_key = 'study'\n",
    "cell_type_key = 'cell_type'\n",
    "source_adata = sc.read(\"source/source__pancreas.h5ad\")\n",
    "target_adata = sc.read(\"target/target__pancreas.h5ad\")\n",
    "surgery_path = \"surgery_model/surgery_model_pancreas\""
   ]
  },
  {
   "cell_type": "code",
   "execution_count": 6,
   "metadata": {},
   "outputs": [
    {
     "name": "stdout",
     "output_type": "stream",
     "text": [
      "AnnData object with n_obs × n_vars = 10294 × 1000\n",
      "    obs: 'batch', 'study', 'cell_type', 'size_factors'\n",
      "\n",
      "INITIALIZING NEW NETWORK..............\n",
      "Encoder Architecture:\n",
      "\tInput Layer in, out and cond: 1000 128 5\n",
      "\tHidden Layer 1 in/out: 128 128\n",
      "\tMean/Var Layer in/out: 128 10\n",
      "Decoder Architecture:\n",
      "\tFirst Layer in, out and cond:  10 128 5\n",
      "\tHidden Layer 1 in/out: 128 128\n",
      "\tOutput Layer in/out:  128 1000 \n",
      "\n"
     ]
    }
   ],
   "source": [
    "model = sca.models.TRVAE.load(surgery_path, source_adata)"
   ]
  },
  {
   "cell_type": "code",
   "execution_count": 7,
   "metadata": {},
   "outputs": [
    {
     "data": {
      "text/plain": [
       "AnnData object with n_obs × n_vars = 10294 × 1000\n",
       "    obs: 'batch', 'study', 'cell_type', 'size_factors'"
      ]
     },
     "execution_count": 7,
     "metadata": {},
     "output_type": "execute_result"
    }
   ],
   "source": [
    "source_adata"
   ]
  },
  {
   "cell_type": "code",
   "execution_count": 8,
   "metadata": {},
   "outputs": [],
   "source": [
    "source_adata.obs[\"ref_or_query\"] = \"ref\"\n",
    "target_adata.obs[\"ref_or_query\"] = \"query\""
   ]
  },
  {
   "cell_type": "code",
   "execution_count": 9,
   "metadata": {},
   "outputs": [],
   "source": [
    "combined_emb = ad.concat([source_adata, target_adata])"
   ]
  },
  {
   "cell_type": "code",
   "execution_count": 10,
   "metadata": {},
   "outputs": [],
   "source": [
    "adata_all_latent = sc.AnnData(model.get_latent(combined_emb.X, combined_emb.obs[condition_key]))\n",
    "adata_all_latent.obs['cell_type'] = combined_emb.obs[cell_type_key].tolist()\n",
    "adata_all_latent.obs['batch'] = combined_emb.obs[condition_key].tolist()"
   ]
  },
  {
   "cell_type": "code",
   "execution_count": 11,
   "metadata": {},
   "outputs": [
    {
     "name": "stderr",
     "output_type": "stream",
     "text": [
      "/home/alextopalova/miniconda3/envs/archmap/lib/python3.11/site-packages/umap/distances.py:1063: NumbaDeprecationWarning: The 'nopython' keyword argument was not supplied to the 'numba.jit' decorator. The implicit default value for this argument is currently False, but it will be changed to True in Numba 0.59.0. See https://numba.readthedocs.io/en/stable/reference/deprecation.html#deprecation-of-object-mode-fall-back-behaviour-when-using-jit for details.\n",
      "  @numba.jit()\n",
      "/home/alextopalova/miniconda3/envs/archmap/lib/python3.11/site-packages/umap/distances.py:1071: NumbaDeprecationWarning: The 'nopython' keyword argument was not supplied to the 'numba.jit' decorator. The implicit default value for this argument is currently False, but it will be changed to True in Numba 0.59.0. See https://numba.readthedocs.io/en/stable/reference/deprecation.html#deprecation-of-object-mode-fall-back-behaviour-when-using-jit for details.\n",
      "  @numba.jit()\n",
      "/home/alextopalova/miniconda3/envs/archmap/lib/python3.11/site-packages/umap/distances.py:1086: NumbaDeprecationWarning: The 'nopython' keyword argument was not supplied to the 'numba.jit' decorator. The implicit default value for this argument is currently False, but it will be changed to True in Numba 0.59.0. See https://numba.readthedocs.io/en/stable/reference/deprecation.html#deprecation-of-object-mode-fall-back-behaviour-when-using-jit for details.\n",
      "  @numba.jit()\n",
      "/home/alextopalova/miniconda3/envs/archmap/lib/python3.11/site-packages/umap/umap_.py:660: NumbaDeprecationWarning: The 'nopython' keyword argument was not supplied to the 'numba.jit' decorator. The implicit default value for this argument is currently False, but it will be changed to True in Numba 0.59.0. See https://numba.readthedocs.io/en/stable/reference/deprecation.html#deprecation-of-object-mode-fall-back-behaviour-when-using-jit for details.\n",
      "  @numba.jit()\n",
      "WARNING:root:Using X_pca as default embedding\n"
     ]
    },
    {
     "ename": "KeyError",
     "evalue": "'X_pca'",
     "output_type": "error",
     "traceback": [
      "\u001b[0;31m---------------------------------------------------------------------------\u001b[0m",
      "\u001b[0;31mKeyError\u001b[0m                                  Traceback (most recent call last)",
      "Cell \u001b[0;32mIn[11], line 1\u001b[0m\n\u001b[0;32m----> 1\u001b[0m classification_uncert_milo(\n\u001b[1;32m      2\u001b[0m     adata_all_latent\u001b[39m=\u001b[39;49madata_all_latent,\n\u001b[1;32m      3\u001b[0m     cell_type_key \u001b[39m=\u001b[39;49m \u001b[39m\"\u001b[39;49m\u001b[39mcell_type\u001b[39;49m\u001b[39m\"\u001b[39;49m\n\u001b[1;32m      4\u001b[0m )\n",
      "File \u001b[0;32m/mnt/c/Helmholtz/archmap_data/scarches-api/uncert/uncert_metric.py:106\u001b[0m, in \u001b[0;36mclassification_uncert_milo\u001b[0;34m(adata_all_latent, cell_type_key, ref_or_query_key, ref_key, query_key, n_neighbors, sample_col, d)\u001b[0m\n\u001b[1;32m     94\u001b[0m \u001b[39mdef\u001b[39;00m \u001b[39mclassification_uncert_milo\u001b[39m(\n\u001b[1;32m     95\u001b[0m         adata_all_latent,\n\u001b[1;32m     96\u001b[0m         cell_type_key,\n\u001b[0;32m   (...)\u001b[0m\n\u001b[1;32m    101\u001b[0m         sample_col \u001b[39m=\u001b[39m \u001b[39m\"\u001b[39m\u001b[39m\"\u001b[39m,\n\u001b[1;32m    102\u001b[0m         d \u001b[39m=\u001b[39m \u001b[39m30\u001b[39m):\n\u001b[1;32m    104\u001b[0m     sc\u001b[39m.\u001b[39mpp\u001b[39m.\u001b[39mneighbors(adata_all_latent, n_neighbors\u001b[39m=\u001b[39mn_neighbors)\n\u001b[0;32m--> 106\u001b[0m     milopy\u001b[39m.\u001b[39;49mcore\u001b[39m.\u001b[39;49mmake_nhoods(adata_all_latent, prop\u001b[39m=\u001b[39;49m\u001b[39m0.1\u001b[39;49m)\n\u001b[1;32m    107\u001b[0m     milopy\u001b[39m.\u001b[39mcore\u001b[39m.\u001b[39mcount_nhoods(adata_all_latent, sample_col\u001b[39m=\u001b[39msample_col)\n\u001b[1;32m    108\u001b[0m     milopy\u001b[39m.\u001b[39mutils\u001b[39m.\u001b[39mannotate_nhoods(adata_all_latent[adata_all_latent\u001b[39m.\u001b[39mobs[ref_or_query_key] \u001b[39m==\u001b[39m ref_key], cell_type_key)\n",
      "File \u001b[0;32m~/miniconda3/envs/archmap/lib/python3.11/site-packages/milopy/core.py:65\u001b[0m, in \u001b[0;36mmake_nhoods\u001b[0;34m(adata, neighbors_key, prop, seed)\u001b[0m\n\u001b[1;32m     62\u001b[0m     knn_graph \u001b[39m=\u001b[39m adata\u001b[39m.\u001b[39mobsp[neighbors_key \u001b[39m+\u001b[39m \u001b[39m\"\u001b[39m\u001b[39m_connectivities\u001b[39m\u001b[39m\"\u001b[39m]\u001b[39m.\u001b[39mcopy()\n\u001b[1;32m     64\u001b[0m \u001b[39m# Get reduced dim\u001b[39;00m\n\u001b[0;32m---> 65\u001b[0m X_dimred \u001b[39m=\u001b[39m adata\u001b[39m.\u001b[39;49mobsm[use_rep]\n\u001b[1;32m     67\u001b[0m \u001b[39m# Sample size\u001b[39;00m\n\u001b[1;32m     68\u001b[0m n_ixs \u001b[39m=\u001b[39m \u001b[39mint\u001b[39m(np\u001b[39m.\u001b[39mround(adata\u001b[39m.\u001b[39mn_obs \u001b[39m*\u001b[39m prop))\n",
      "File \u001b[0;32m~/miniconda3/envs/archmap/lib/python3.11/site-packages/anndata/_core/aligned_mapping.py:178\u001b[0m, in \u001b[0;36mAlignedActualMixin.__getitem__\u001b[0;34m(self, key)\u001b[0m\n\u001b[1;32m    177\u001b[0m \u001b[39mdef\u001b[39;00m \u001b[39m__getitem__\u001b[39m(\u001b[39mself\u001b[39m, key: \u001b[39mstr\u001b[39m) \u001b[39m-\u001b[39m\u001b[39m>\u001b[39m V:\n\u001b[0;32m--> 178\u001b[0m     \u001b[39mreturn\u001b[39;00m \u001b[39mself\u001b[39;49m\u001b[39m.\u001b[39;49m_data[key]\n",
      "\u001b[0;31mKeyError\u001b[0m: 'X_pca'"
     ]
    }
   ],
   "source": [
    "classification_uncert_milo(\n",
    "    adata_all_latent=adata_all_latent,\n",
    "    cell_type_key = \"cell_type\"\n",
    ")"
   ]
  },
  {
   "cell_type": "code",
   "execution_count": null,
   "metadata": {},
   "outputs": [],
   "source": [
    "uncertainties = integration_uncertain(\n",
    "    adata_latent = adata_all_latent,\n",
    "    batch_key = \"batch\"\n",
    ")"
   ]
  },
  {
   "cell_type": "code",
   "execution_count": null,
   "metadata": {},
   "outputs": [],
   "source": [
    "uncertainties"
   ]
  },
  {
   "attachments": {},
   "cell_type": "markdown",
   "metadata": {},
   "source": [
    "# Pancreas no alpha cells in reference"
   ]
  },
  {
   "cell_type": "code",
   "execution_count": null,
   "metadata": {},
   "outputs": [],
   "source": [
    "condition_key = 'study'\n",
    "cell_type_key = 'cell_type'\n",
    "source_adata = sc.read(\"source/source__pancreas_no_alpha.h5ad\")\n",
    "target_adata = sc.read(\"target/target__pancreas_no_alpha.h5ad\")\n",
    "surgery_path = \"surgery_model/surgery_model_pancreas_no_alpha\""
   ]
  },
  {
   "cell_type": "code",
   "execution_count": null,
   "metadata": {},
   "outputs": [],
   "source": [
    "model = sca.models.TRVAE.load(surgery_path, source_adata)"
   ]
  },
  {
   "cell_type": "code",
   "execution_count": null,
   "metadata": {},
   "outputs": [],
   "source": [
    "combined_emb = ad.concat([source_adata, target_adata])"
   ]
  },
  {
   "cell_type": "code",
   "execution_count": null,
   "metadata": {},
   "outputs": [],
   "source": [
    "adata_all_latent = sc.AnnData(model.get_latent(combined_emb.X, combined_emb.obs[condition_key]))\n",
    "adata_all_latent.obs['cell_type'] = combined_emb.obs[cell_type_key].tolist()\n",
    "adata_all_latent.obs['batch'] = combined_emb.obs[condition_key].tolist()"
   ]
  },
  {
   "cell_type": "code",
   "execution_count": null,
   "metadata": {},
   "outputs": [],
   "source": [
    "uncertainties = integration_uncertain(\n",
    "    adata_latent = adata_all_latent,\n",
    "    batch_key = \"batch\"\n",
    ")"
   ]
  },
  {
   "cell_type": "code",
   "execution_count": null,
   "metadata": {},
   "outputs": [],
   "source": [
    "uncertainties"
   ]
  },
  {
   "attachments": {},
   "cell_type": "markdown",
   "metadata": {},
   "source": [
    "# PBMC normal"
   ]
  },
  {
   "cell_type": "code",
   "execution_count": null,
   "metadata": {},
   "outputs": [],
   "source": [
    "condition_key = 'batch' \n",
    "cell_type_key = 'final_annotation'\n",
    "source_adata = sc.read(\"source/source__pbmc.h5ad\")\n",
    "target_adata = sc.read(\"target/target__pbmc.h5ad\")\n",
    "surgery_path = \"surgery_model/surgery_model_pbmc\""
   ]
  },
  {
   "cell_type": "code",
   "execution_count": null,
   "metadata": {},
   "outputs": [],
   "source": [
    "model = sca.models.TRVAE.load(surgery_path, source_adata)"
   ]
  },
  {
   "cell_type": "code",
   "execution_count": null,
   "metadata": {},
   "outputs": [],
   "source": [
    "combined_emb = ad.concat([source_adata, target_adata])"
   ]
  },
  {
   "cell_type": "code",
   "execution_count": null,
   "metadata": {},
   "outputs": [],
   "source": [
    "adata_all_latent = sc.AnnData(model.get_latent(combined_emb.X, combined_emb.obs[condition_key]))\n",
    "adata_all_latent.obs['cell_type'] = combined_emb.obs[cell_type_key].tolist()\n",
    "adata_all_latent.obs['batch'] = combined_emb.obs[condition_key].tolist()"
   ]
  },
  {
   "cell_type": "code",
   "execution_count": null,
   "metadata": {},
   "outputs": [],
   "source": [
    "uncertainties = integration_uncertain(\n",
    "    adata_latent = adata_all_latent,\n",
    "    batch_key = \"batch\"\n",
    ")"
   ]
  },
  {
   "cell_type": "code",
   "execution_count": null,
   "metadata": {},
   "outputs": [],
   "source": [
    "uncertainties"
   ]
  },
  {
   "attachments": {},
   "cell_type": "markdown",
   "metadata": {},
   "source": [
    "# PBMC 10X and Villani"
   ]
  },
  {
   "cell_type": "code",
   "execution_count": null,
   "metadata": {},
   "outputs": [],
   "source": [
    "condition_key = 'batch' \n",
    "cell_type_key = 'final_annotation'\n",
    "source_adata = sc.read(\"source/source__pbmc_10x_villani.h5ad\")\n",
    "target_adata = sc.read(\"target/target__pbmc_10x_villani.h5ad\")\n",
    "surgery_path = \"surgery_model/surgery_model_pbmc_10x_villani\""
   ]
  },
  {
   "cell_type": "code",
   "execution_count": null,
   "metadata": {},
   "outputs": [],
   "source": [
    "model = sca.models.TRVAE.load(surgery_path, source_adata)"
   ]
  },
  {
   "cell_type": "code",
   "execution_count": null,
   "metadata": {},
   "outputs": [],
   "source": [
    "combined_emb = ad.concat([source_adata, target_adata])"
   ]
  },
  {
   "cell_type": "code",
   "execution_count": null,
   "metadata": {},
   "outputs": [],
   "source": [
    "combined_emb.obs.batch.unique()"
   ]
  },
  {
   "cell_type": "code",
   "execution_count": null,
   "metadata": {},
   "outputs": [],
   "source": [
    "adata_all_latent = sc.AnnData(model.get_latent(combined_emb.X, combined_emb.obs[condition_key]))\n",
    "adata_all_latent.obs['cell_type'] = combined_emb.obs[cell_type_key].tolist()\n",
    "adata_all_latent.obs['batch'] = combined_emb.obs[condition_key].tolist()"
   ]
  },
  {
   "cell_type": "code",
   "execution_count": null,
   "metadata": {},
   "outputs": [],
   "source": [
    "uncertainties = integration_uncertain(\n",
    "    adata_latent = adata_all_latent,\n",
    "    batch_key = \"batch\"\n",
    ")"
   ]
  },
  {
   "cell_type": "code",
   "execution_count": null,
   "metadata": {},
   "outputs": [],
   "source": [
    "uncertainties"
   ]
  }
 ],
 "metadata": {
  "kernelspec": {
   "display_name": "archmap",
   "language": "python",
   "name": "python3"
  },
  "language_info": {
   "codemirror_mode": {
    "name": "ipython",
    "version": 3
   },
   "file_extension": ".py",
   "mimetype": "text/x-python",
   "name": "python",
   "nbconvert_exporter": "python",
   "pygments_lexer": "ipython3",
   "version": "3.11.3"
  },
  "orig_nbformat": 4
 },
 "nbformat": 4,
 "nbformat_minor": 2
}
