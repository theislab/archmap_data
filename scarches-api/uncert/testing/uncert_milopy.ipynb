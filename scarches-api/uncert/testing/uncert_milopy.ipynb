{
 "cells": [
  {
   "cell_type": "code",
   "execution_count": 1,
   "metadata": {},
   "outputs": [],
   "source": [
    "import os\n",
    "os.chdir('../')\n",
    "import warnings\n",
    "warnings.simplefilter(action='ignore', category=FutureWarning)\n",
    "warnings.simplefilter(action='ignore', category=UserWarning)"
   ]
  },
  {
   "cell_type": "code",
   "execution_count": 2,
   "metadata": {},
   "outputs": [
    {
     "ename": "ImportError",
     "evalue": "/home/alextopalova/miniconda3/envs/uncert/lib/python3.9/site-packages/torch/lib/libtorch_cuda.so: undefined symbol: cudaGraphInstantiateWithFlags, version libcudart.so.11.0",
     "output_type": "error",
     "traceback": [
      "\u001b[0;31m---------------------------------------------------------------------------\u001b[0m",
      "\u001b[0;31mImportError\u001b[0m                               Traceback (most recent call last)",
      "\u001b[1;32m/mnt/c/Helmholtz/archmap_data/scarches-api/uncert/testing/uncert_milopy.ipynb Cell 2\u001b[0m in \u001b[0;36m2\n\u001b[1;32m      <a href='vscode-notebook-cell://wsl%2Bubuntu-20.04/mnt/c/Helmholtz/archmap_data/scarches-api/uncert/testing/uncert_milopy.ipynb#W1sdnNjb2RlLXJlbW90ZQ%3D%3D?line=0'>1</a>\u001b[0m \u001b[39mimport\u001b[39;00m \u001b[39mscanpy\u001b[39;00m \u001b[39mas\u001b[39;00m \u001b[39msc\u001b[39;00m\n\u001b[0;32m----> <a href='vscode-notebook-cell://wsl%2Bubuntu-20.04/mnt/c/Helmholtz/archmap_data/scarches-api/uncert/testing/uncert_milopy.ipynb#W1sdnNjb2RlLXJlbW90ZQ%3D%3D?line=1'>2</a>\u001b[0m \u001b[39mimport\u001b[39;00m \u001b[39mtorch\u001b[39;00m\n\u001b[1;32m      <a href='vscode-notebook-cell://wsl%2Bubuntu-20.04/mnt/c/Helmholtz/archmap_data/scarches-api/uncert/testing/uncert_milopy.ipynb#W1sdnNjb2RlLXJlbW90ZQ%3D%3D?line=2'>3</a>\u001b[0m \u001b[39mimport\u001b[39;00m \u001b[39mscarches\u001b[39;00m \u001b[39mas\u001b[39;00m \u001b[39msca\u001b[39;00m\n\u001b[1;32m      <a href='vscode-notebook-cell://wsl%2Bubuntu-20.04/mnt/c/Helmholtz/archmap_data/scarches-api/uncert/testing/uncert_milopy.ipynb#W1sdnNjb2RlLXJlbW90ZQ%3D%3D?line=3'>4</a>\u001b[0m \u001b[39mfrom\u001b[39;00m \u001b[39mscarches\u001b[39;00m\u001b[39m.\u001b[39;00m\u001b[39mdataset\u001b[39;00m\u001b[39m.\u001b[39;00m\u001b[39mtrvae\u001b[39;00m\u001b[39m.\u001b[39;00m\u001b[39mdata_handling\u001b[39;00m \u001b[39mimport\u001b[39;00m remove_sparsity\n",
      "File \u001b[0;32m~/miniconda3/envs/uncert/lib/python3.9/site-packages/torch/__init__.py:229\u001b[0m\n\u001b[1;32m    227\u001b[0m     \u001b[39mif\u001b[39;00m USE_GLOBAL_DEPS:\n\u001b[1;32m    228\u001b[0m         _load_global_deps()\n\u001b[0;32m--> 229\u001b[0m     \u001b[39mfrom\u001b[39;00m \u001b[39mtorch\u001b[39;00m\u001b[39m.\u001b[39;00m\u001b[39m_C\u001b[39;00m \u001b[39mimport\u001b[39;00m \u001b[39m*\u001b[39m  \u001b[39m# noqa: F403\u001b[39;00m\n\u001b[1;32m    231\u001b[0m \u001b[39m# Appease the type checker; ordinarily this binding is inserted by the\u001b[39;00m\n\u001b[1;32m    232\u001b[0m \u001b[39m# torch._C module initialization code in C\u001b[39;00m\n\u001b[1;32m    233\u001b[0m \u001b[39mif\u001b[39;00m TYPE_CHECKING:\n",
      "\u001b[0;31mImportError\u001b[0m: /home/alextopalova/miniconda3/envs/uncert/lib/python3.9/site-packages/torch/lib/libtorch_cuda.so: undefined symbol: cudaGraphInstantiateWithFlags, version libcudart.so.11.0"
     ]
    }
   ],
   "source": [
    "import scanpy as sc\n",
    "import torch\n",
    "import scarches as sca\n",
    "from scarches.dataset.trvae.data_handling import remove_sparsity\n",
    "import matplotlib.pyplot as plt\n",
    "import numpy as np\n",
    "import gdown\n",
    "import anndata as ad\n",
    "import pandas as pd"
   ]
  },
  {
   "cell_type": "code",
   "execution_count": null,
   "metadata": {},
   "outputs": [],
   "source": [
    "from uncert_metric import *"
   ]
  },
  {
   "cell_type": "code",
   "execution_count": null,
   "metadata": {},
   "outputs": [],
   "source": [
    "sc.settings.set_figure_params(dpi=200, frameon=False)\n",
    "sc.set_figure_params(dpi=200)\n",
    "sc.set_figure_params(figsize=(4, 3))\n",
    "torch.set_printoptions(precision=3, sci_mode=False, edgeitems=7)"
   ]
  },
  {
   "attachments": {},
   "cell_type": "markdown",
   "metadata": {},
   "source": [
    "# Pancreas normal"
   ]
  },
  {
   "cell_type": "code",
   "execution_count": null,
   "metadata": {},
   "outputs": [],
   "source": [
    "condition_key = 'study'\n",
    "cell_type_key = 'cell_type'\n",
    "source_adata = sc.read(\"source/source__pancreas.h5ad\")\n",
    "target_adata = sc.read(\"target/target__pancreas.h5ad\")\n",
    "surgery_path = \"surgery_model/surgery_model_pancreas\""
   ]
  },
  {
   "cell_type": "code",
   "execution_count": null,
   "metadata": {},
   "outputs": [],
   "source": [
    "model = sca.models.TRVAE.load(surgery_path, source_adata)"
   ]
  },
  {
   "cell_type": "code",
   "execution_count": null,
   "metadata": {},
   "outputs": [],
   "source": [
    "source_adata"
   ]
  },
  {
   "cell_type": "code",
   "execution_count": null,
   "metadata": {},
   "outputs": [],
   "source": [
    "source_adata.obs[\"ref_or_query\"] = \"ref\"\n",
    "target_adata.obs[\"ref_or_query\"] = \"query\""
   ]
  },
  {
   "cell_type": "code",
   "execution_count": null,
   "metadata": {},
   "outputs": [],
   "source": [
    "combined_emb = ad.concat([source_adata, target_adata])"
   ]
  },
  {
   "cell_type": "code",
   "execution_count": null,
   "metadata": {},
   "outputs": [],
   "source": [
    "adata_all_latent = sc.AnnData(model.get_latent(combined_emb.X, combined_emb.obs[condition_key]))\n",
    "adata_all_latent.obs['cell_type'] = combined_emb.obs[cell_type_key].tolist()\n",
    "adata_all_latent.obs['batch'] = combined_emb.obs[condition_key].tolist()\n",
    "adata_all_latent.obs['ref_or_query'] = combined_emb.obs[condition_key].tolist()"
   ]
  },
  {
   "cell_type": "code",
   "execution_count": null,
   "metadata": {},
   "outputs": [],
   "source": [
    "combined_emb"
   ]
  },
  {
   "cell_type": "code",
   "execution_count": null,
   "metadata": {},
   "outputs": [],
   "source": [
    "adata_all_latent"
   ]
  },
  {
   "cell_type": "code",
   "execution_count": null,
   "metadata": {},
   "outputs": [],
   "source": [
    "adata_all_latent.obs"
   ]
  },
  {
   "cell_type": "code",
   "execution_count": null,
   "metadata": {},
   "outputs": [],
   "source": [
    "model.get_latent().shape"
   ]
  },
  {
   "cell_type": "code",
   "execution_count": null,
   "metadata": {},
   "outputs": [],
   "source": [
    "uncertainties, _, _ = classification_uncert_milo(adata_latent = adata_all_latent, cell_type_key=\"cell_type\")"
   ]
  },
  {
   "cell_type": "code",
   "execution_count": null,
   "metadata": {},
   "outputs": [],
   "source": [
    "uncertainties"
   ]
  },
  {
   "attachments": {},
   "cell_type": "markdown",
   "metadata": {},
   "source": [
    "# Pancreas no alpha cells in reference"
   ]
  },
  {
   "cell_type": "code",
   "execution_count": null,
   "metadata": {},
   "outputs": [],
   "source": [
    "condition_key = 'study'\n",
    "cell_type_key = 'cell_type'\n",
    "source_adata = sc.read(\"source/source__pancreas_no_alpha.h5ad\")\n",
    "target_adata = sc.read(\"target/target__pancreas_no_alpha.h5ad\")\n",
    "surgery_path = \"surgery_model/surgery_model_pancreas_no_alpha\""
   ]
  },
  {
   "cell_type": "code",
   "execution_count": null,
   "metadata": {},
   "outputs": [],
   "source": [
    "model = sca.models.TRVAE.load(surgery_path, source_adata)"
   ]
  },
  {
   "cell_type": "code",
   "execution_count": null,
   "metadata": {},
   "outputs": [],
   "source": [
    "combined_emb = ad.concat([source_adata, target_adata])"
   ]
  },
  {
   "cell_type": "code",
   "execution_count": null,
   "metadata": {},
   "outputs": [],
   "source": [
    "adata_all_latent = sc.AnnData(model.get_latent(combined_emb.X, combined_emb.obs[condition_key]))\n",
    "adata_all_latent.obs['cell_type'] = combined_emb.obs[cell_type_key].tolist()\n",
    "adata_all_latent.obs['batch'] = combined_emb.obs[condition_key].tolist()"
   ]
  },
  {
   "cell_type": "code",
   "execution_count": null,
   "metadata": {},
   "outputs": [],
   "source": [
    "uncertainties, _, _ = classification_uncert_milo(adata= combined_emb, adata_latent=adata_all_latent, cell_type_key=\"cell_type\")"
   ]
  },
  {
   "cell_type": "code",
   "execution_count": null,
   "metadata": {},
   "outputs": [],
   "source": [
    "uncertainties"
   ]
  },
  {
   "attachments": {},
   "cell_type": "markdown",
   "metadata": {},
   "source": [
    "# PBMC normal"
   ]
  },
  {
   "cell_type": "code",
   "execution_count": null,
   "metadata": {},
   "outputs": [],
   "source": [
    "condition_key = 'batch' \n",
    "cell_type_key = 'final_annotation'\n",
    "source_adata = sc.read(\"source/source__pbmc.h5ad\")\n",
    "target_adata = sc.read(\"target/target__pbmc.h5ad\")\n",
    "surgery_path = \"surgery_model/surgery_model_pbmc\""
   ]
  },
  {
   "cell_type": "code",
   "execution_count": null,
   "metadata": {},
   "outputs": [],
   "source": [
    "model = sca.models.TRVAE.load(surgery_path, source_adata)"
   ]
  },
  {
   "cell_type": "code",
   "execution_count": null,
   "metadata": {},
   "outputs": [],
   "source": [
    "combined_emb = ad.concat([source_adata, target_adata])"
   ]
  },
  {
   "cell_type": "code",
   "execution_count": null,
   "metadata": {},
   "outputs": [],
   "source": [
    "adata_all_latent = sc.AnnData(model.get_latent(combined_emb.X, combined_emb.obs[condition_key]))\n",
    "adata_all_latent.obs['cell_type'] = combined_emb.obs[cell_type_key].tolist()\n",
    "adata_all_latent.obs['batch'] = combined_emb.obs[condition_key].tolist()"
   ]
  },
  {
   "cell_type": "code",
   "execution_count": null,
   "metadata": {},
   "outputs": [],
   "source": [
    "uncertainties, _, _ = classification_uncert_milo(adata= combined_emb, adata_latent=adata_all_latent, cell_type_key=\"cell_type\")"
   ]
  },
  {
   "cell_type": "code",
   "execution_count": null,
   "metadata": {},
   "outputs": [],
   "source": [
    "uncertainties"
   ]
  },
  {
   "attachments": {},
   "cell_type": "markdown",
   "metadata": {},
   "source": [
    "# PBMC 10X and Villani"
   ]
  },
  {
   "cell_type": "code",
   "execution_count": null,
   "metadata": {},
   "outputs": [],
   "source": [
    "condition_key = 'batch' \n",
    "cell_type_key = 'final_annotation'\n",
    "source_adata = sc.read(\"source/source__pbmc_10x_villani.h5ad\")\n",
    "target_adata = sc.read(\"target/target__pbmc_10x_villani.h5ad\")\n",
    "surgery_path = \"surgery_model/surgery_model_pbmc_10x_villani\""
   ]
  },
  {
   "cell_type": "code",
   "execution_count": null,
   "metadata": {},
   "outputs": [],
   "source": [
    "model = sca.models.TRVAE.load(surgery_path, source_adata)"
   ]
  },
  {
   "cell_type": "code",
   "execution_count": null,
   "metadata": {},
   "outputs": [],
   "source": [
    "combined_emb = ad.concat([source_adata, target_adata])"
   ]
  },
  {
   "cell_type": "code",
   "execution_count": null,
   "metadata": {},
   "outputs": [],
   "source": [
    "combined_emb.obs.batch.unique()"
   ]
  },
  {
   "cell_type": "code",
   "execution_count": null,
   "metadata": {},
   "outputs": [],
   "source": [
    "adata_all_latent = sc.AnnData(model.get_latent(combined_emb.X, combined_emb.obs[condition_key]))\n",
    "adata_all_latent.obs['cell_type'] = combined_emb.obs[cell_type_key].tolist()\n",
    "adata_all_latent.obs['batch'] = combined_emb.obs[condition_key].tolist()"
   ]
  },
  {
   "cell_type": "code",
   "execution_count": null,
   "metadata": {},
   "outputs": [],
   "source": [
    "uncertainties, _, _ = classification_uncert_milo(adata= combined_emb, adata_latent=adata_all_latent, cell_type_key=\"cell_type\")"
   ]
  },
  {
   "cell_type": "code",
   "execution_count": null,
   "metadata": {},
   "outputs": [],
   "source": [
    "uncertainties"
   ]
  }
 ],
 "metadata": {
  "kernelspec": {
   "display_name": "Python 3 (ipykernel)",
   "language": "python",
   "name": "python3"
  },
  "language_info": {
   "codemirror_mode": {
    "name": "ipython",
    "version": 3
   },
   "file_extension": ".py",
   "mimetype": "text/x-python",
   "name": "python",
   "nbconvert_exporter": "python",
   "pygments_lexer": "ipython3",
   "version": "3.9.17"
  },
  "orig_nbformat": 4
 },
 "nbformat": 4,
 "nbformat_minor": 2
}
