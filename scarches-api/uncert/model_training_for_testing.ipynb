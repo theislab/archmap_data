{
 "cells": [
  {
   "cell_type": "code",
   "execution_count": 1,
   "metadata": {},
   "outputs": [],
   "source": [
    "import os\n",
    "os.chdir('../')\n",
    "import warnings\n",
    "warnings.simplefilter(action='ignore', category=FutureWarning)\n",
    "warnings.simplefilter(action='ignore', category=UserWarning)"
   ]
  },
  {
   "cell_type": "code",
   "execution_count": 2,
   "metadata": {},
   "outputs": [
    {
     "name": "stderr",
     "output_type": "stream",
     "text": [
      "WARNING:root:In order to use the mouse gastrulation seqFISH datsets, please install squidpy (see https://github.com/scverse/squidpy).\n",
      "WARNING:root:In order to use sagenet models, please install pytorch geometric (see https://pytorch-geometric.readthedocs.io) and \n",
      " captum (see https://github.com/pytorch/captum).\n",
      "INFO:lightning_fabric.utilities.seed:Global seed set to 0\n",
      "/home/alextopalova/miniconda3/envs/archmap/lib/python3.11/site-packages/tqdm/auto.py:21: TqdmWarning: IProgress not found. Please update jupyter and ipywidgets. See https://ipywidgets.readthedocs.io/en/stable/user_install.html\n",
      "  from .autonotebook import tqdm as notebook_tqdm\n",
      "WARNING:root:mvTCR is not installed. To use mvTCR models, please install it first using \"pip install mvtcr\"\n",
      "WARNING:root:multigrate is not installed. To use multigrate models, please install it first using \"pip install multigrate\".\n"
     ]
    }
   ],
   "source": [
    "import scanpy as sc\n",
    "import torch\n",
    "import scarches as sca\n",
    "from scarches.dataset.trvae.data_handling import remove_sparsity\n",
    "import matplotlib.pyplot as plt\n",
    "import numpy as np\n",
    "import gdown"
   ]
  },
  {
   "cell_type": "code",
   "execution_count": 3,
   "metadata": {},
   "outputs": [],
   "source": [
    "sc.settings.set_figure_params(dpi=200, frameon=False)\n",
    "sc.set_figure_params(dpi=200)\n",
    "sc.set_figure_params(figsize=(4, 4))\n",
    "torch.set_printoptions(precision=3, sci_mode=False, edgeitems=7)"
   ]
  },
  {
   "cell_type": "code",
   "execution_count": 4,
   "metadata": {},
   "outputs": [],
   "source": [
    "condition_key = 'batch' \n",
    "cell_type_key = 'final_annotation'\n",
    "target_conditions = ['10X']\n",
    "\n",
    "surgery_path = 'surgery_model'\n",
    "output = 'Immune_ALL_human.h5ad'\n",
    "\n",
    "trvae_epochs = 500\n",
    "surgery_epochs = 500\n",
    "\n",
    "early_stopping_kwargs = {\n",
    "    \"early_stopping_metric\": \"val_unweighted_loss\",\n",
    "    \"threshold\": 0,\n",
    "    \"patience\": 20,\n",
    "    \"reduce_lr\": True,\n",
    "    \"lr_patience\": 13,\n",
    "    \"lr_factor\": 0.1,\n",
    "}"
   ]
  },
  {
   "cell_type": "code",
   "execution_count": 5,
   "metadata": {},
   "outputs": [],
   "source": [
    "adata_all = sc.read(output)\n",
    "\n",
    "source_adata = adata_all[~adata_all.obs[condition_key].isin(target_conditions)].copy()\n",
    "target_adata = adata_all[adata_all.obs[condition_key].isin(target_conditions)].copy()\n",
    "source_conditions = source_adata.obs[condition_key].unique().tolist()"
   ]
  },
  {
   "cell_type": "code",
   "execution_count": 6,
   "metadata": {},
   "outputs": [
    {
     "name": "stdout",
     "output_type": "stream",
     "text": [
      "\n",
      "INITIALIZING NEW NETWORK..............\n",
      "Encoder Architecture:\n",
      "\tInput Layer in, out and cond: 12303 128 9\n",
      "\tHidden Layer 1 in/out: 128 128\n",
      "\tMean/Var Layer in/out: 128 10\n",
      "Decoder Architecture:\n",
      "\tFirst Layer in, out and cond:  10 128 9\n",
      "\tHidden Layer 1 in/out: 128 128\n",
      "\tOutput Layer in/out:  128 12303 \n",
      "\n"
     ]
    }
   ],
   "source": [
    "trvae = sca.models.TRVAE(\n",
    "    adata=source_adata,\n",
    "    condition_key=condition_key,\n",
    "    conditions=source_conditions,\n",
    "    hidden_layer_sizes=[128, 128],\n",
    ")"
   ]
  },
  {
   "cell_type": "code",
   "execution_count": 7,
   "metadata": {},
   "outputs": [
    {
     "name": "stdout",
     "output_type": "stream",
     "text": [
      " |█-------------------| 9.2%  - val_loss: 3240.0711669922 - val_recon_loss: 3197.9678141276 - val_kl_loss: 36.7187317742 - val_mmd_loss: 33.8416170544\n",
      "ADJUSTED LR\n",
      " |███-----------------| 17.0%  - val_loss: 3239.4399278429 - val_recon_loss: 3190.5209689670 - val_kl_loss: 36.5147238837 - val_mmd_loss: 33.5827758577\n",
      "ADJUSTED LR\n",
      " |████----------------| 23.2%  - val_loss: 3246.1266954210 - val_recon_loss: 3191.3292914497 - val_kl_loss: 36.0852419535 - val_mmd_loss: 34.0484169854\n",
      "ADJUSTED LR\n",
      " |████----------------| 24.6%  - val_loss: 3252.3390977648 - val_recon_loss: 3196.6609293620 - val_kl_loss: 36.0569481320 - val_mmd_loss: 33.6834758123\n",
      "Stopping early: no improvement of more than 0 nats in 20 epochs\n",
      "If the early stopping criterion is too strong, please instantiate it with different parameters in the train method.\n",
      "Saving best state of network...\n",
      "Best State was in Epoch 101\n"
     ]
    }
   ],
   "source": [
    "trvae.train(\n",
    "    n_epochs=trvae_epochs,\n",
    "    alpha_epoch_anneal=200,\n",
    "    early_stopping_kwargs=early_stopping_kwargs\n",
    ")"
   ]
  },
  {
   "cell_type": "code",
   "execution_count": 8,
   "metadata": {},
   "outputs": [],
   "source": [
    "ref_path = 'reference_model/'\n",
    "trvae.save(ref_path, overwrite=True)"
   ]
  },
  {
   "cell_type": "code",
   "execution_count": 9,
   "metadata": {},
   "outputs": [
    {
     "name": "stdout",
     "output_type": "stream",
     "text": [
      "AnnData object with n_obs × n_vars = 10727 × 12303\n",
      "    obs: 'batch', 'chemistry', 'data_type', 'dpt_pseudotime', 'final_annotation', 'mt_frac', 'n_counts', 'n_genes', 'sample_ID', 'size_factors', 'species', 'study', 'tissue'\n",
      "    layers: 'counts'\n",
      "\n",
      "INITIALIZING NEW NETWORK..............\n",
      "Encoder Architecture:\n",
      "\tInput Layer in, out and cond: 12303 128 10\n",
      "\tHidden Layer 1 in/out: 128 128\n",
      "\tMean/Var Layer in/out: 128 10\n",
      "Decoder Architecture:\n",
      "\tFirst Layer in, out and cond:  10 128 10\n",
      "\tHidden Layer 1 in/out: 128 128\n",
      "\tOutput Layer in/out:  128 12303 \n",
      "\n"
     ]
    }
   ],
   "source": [
    "new_trvae = sca.models.TRVAE.load_query_data(adata=target_adata, reference_model=ref_path)"
   ]
  },
  {
   "cell_type": "code",
   "execution_count": 10,
   "metadata": {},
   "outputs": [
    {
     "name": "stdout",
     "output_type": "stream",
     "text": [
      " |█████---------------| 28.8%  - val_loss: 3863.8521321615 - val_recon_loss: 3838.2415907118 - val_kl_loss: 35.8189591302 - val_mmd_loss: 0.0000000000\n",
      "ADJUSTED LR\n",
      " |██████--------------| 33.6%  - val_loss: 3863.2724880642 - val_recon_loss: 3833.3790961372 - val_kl_loss: 35.8004112244 - val_mmd_loss: 0.0000000000\n",
      "ADJUSTED LR\n",
      " |███████-------------| 36.8%  - val_loss: 3864.0731336806 - val_recon_loss: 3831.3164333767 - val_kl_loss: 35.7996584574 - val_mmd_loss: 0.0000000000\n",
      "ADJUSTED LR\n",
      " |███████-------------| 39.6%  - val_loss: 3869.7326931424 - val_recon_loss: 3834.4635959201 - val_kl_loss: 35.8062333001 - val_mmd_loss: 0.0000000000\n",
      "ADJUSTED LR\n",
      " |████████------------| 41.0%  - val_loss: 3870.6901312934 - val_recon_loss: 3834.8873155382 - val_kl_loss: 35.8028216892 - val_mmd_loss: 0.0000000000\n",
      "Stopping early: no improvement of more than 0 nats in 20 epochs\n",
      "If the early stopping criterion is too strong, please instantiate it with different parameters in the train method.\n",
      "Saving best state of network...\n",
      "Best State was in Epoch 183\n"
     ]
    }
   ],
   "source": [
    "new_trvae.train(\n",
    "    n_epochs=surgery_epochs,\n",
    "    alpha_epoch_anneal=200,\n",
    "    early_stopping_kwargs=early_stopping_kwargs,\n",
    "    weight_decay=0\n",
    ")"
   ]
  },
  {
   "cell_type": "code",
   "execution_count": 11,
   "metadata": {},
   "outputs": [],
   "source": [
    "surg_path = 'surgery_model_proper'\n",
    "new_trvae.save(surg_path, overwrite=True)"
   ]
  }
 ],
 "metadata": {
  "kernelspec": {
   "display_name": "archmap",
   "language": "python",
   "name": "python3"
  },
  "language_info": {
   "codemirror_mode": {
    "name": "ipython",
    "version": 3
   },
   "file_extension": ".py",
   "mimetype": "text/x-python",
   "name": "python",
   "nbconvert_exporter": "python",
   "pygments_lexer": "ipython3",
   "version": "3.11.3"
  },
  "orig_nbformat": 4
 },
 "nbformat": 4,
 "nbformat_minor": 2
}
