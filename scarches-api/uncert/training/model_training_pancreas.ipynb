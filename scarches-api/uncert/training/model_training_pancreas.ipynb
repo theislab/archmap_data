{
 "cells": [
  {
   "cell_type": "code",
   "execution_count": 1,
   "metadata": {},
   "outputs": [],
   "source": [
    "import os\n",
    "os.chdir('../')\n",
    "import warnings\n",
    "warnings.simplefilter(action='ignore', category=FutureWarning)\n",
    "warnings.simplefilter(action='ignore', category=UserWarning)"
   ]
  },
  {
   "cell_type": "code",
   "execution_count": 2,
   "metadata": {},
   "outputs": [
    {
     "name": "stderr",
     "output_type": "stream",
     "text": [
      "WARNING:root:In order to use the mouse gastrulation seqFISH datsets, please install squidpy (see https://github.com/scverse/squidpy).\n",
      "WARNING:root:In order to use sagenet models, please install pytorch geometric (see https://pytorch-geometric.readthedocs.io) and \n",
      " captum (see https://github.com/pytorch/captum).\n",
      "INFO:lightning_fabric.utilities.seed:Global seed set to 0\n",
      "/home/alextopalova/miniconda3/envs/archmap/lib/python3.11/site-packages/tqdm/auto.py:21: TqdmWarning: IProgress not found. Please update jupyter and ipywidgets. See https://ipywidgets.readthedocs.io/en/stable/user_install.html\n",
      "  from .autonotebook import tqdm as notebook_tqdm\n",
      "WARNING:root:mvTCR is not installed. To use mvTCR models, please install it first using \"pip install mvtcr\"\n",
      "WARNING:root:multigrate is not installed. To use multigrate models, please install it first using \"pip install multigrate\".\n"
     ]
    }
   ],
   "source": [
    "import scanpy as sc\n",
    "import torch\n",
    "import scarches as sca\n",
    "from scarches.dataset.trvae.data_handling import remove_sparsity\n",
    "import matplotlib.pyplot as plt\n",
    "import numpy as np\n",
    "import gdown"
   ]
  },
  {
   "cell_type": "code",
   "execution_count": 3,
   "metadata": {},
   "outputs": [],
   "source": [
    "sc.settings.set_figure_params(dpi=200, frameon=False)\n",
    "sc.set_figure_params(dpi=200)\n",
    "sc.set_figure_params(figsize=(4, 4))\n",
    "torch.set_printoptions(precision=3, sci_mode=False, edgeitems=7)"
   ]
  },
  {
   "cell_type": "code",
   "execution_count": 4,
   "metadata": {},
   "outputs": [
    {
     "name": "stderr",
     "output_type": "stream",
     "text": [
      "Downloading...\n",
      "From (uriginal): https://drive.google.com/uc?id=1ehxgfHTsMZXy6YzlFKGJOsBKQ5rrvMnd\n",
      "From (redirected): https://drive.google.com/uc?id=1ehxgfHTsMZXy6YzlFKGJOsBKQ5rrvMnd&confirm=t&uuid=67b6bc55-3610-4a1f-942b-097804229a81\n",
      "To: /mnt/c/Helmholtz/archmap_data/scarches-api/pancreas.h5ad\n",
      "100%|██████████| 126M/126M [00:12<00:00, 10.4MB/s] \n"
     ]
    },
    {
     "data": {
      "text/plain": [
       "'pancreas.h5ad'"
      ]
     },
     "execution_count": 4,
     "metadata": {},
     "output_type": "execute_result"
    }
   ],
   "source": [
    "url = 'https://drive.google.com/uc?id=1ehxgfHTsMZXy6YzlFKGJOsBKQ5rrvMnd'\n",
    "output = 'pancreas.h5ad'\n",
    "gdown.download(url, output, quiet=False)"
   ]
  },
  {
   "cell_type": "code",
   "execution_count": 4,
   "metadata": {},
   "outputs": [],
   "source": [
    "condition_key = 'study'\n",
    "cell_type_key = 'cell_type'\n",
    "target_conditions = ['Pancreas CelSeq2', 'Pancreas SS2']\n",
    "\n",
    "output = 'pancreas.h5ad'\n",
    "\n",
    "trvae_epochs = 500\n",
    "surgery_epochs = 500\n",
    "\n",
    "early_stopping_kwargs = {\n",
    "    \"early_stopping_metric\": \"val_unweighted_loss\",\n",
    "    \"threshold\": 0,\n",
    "    \"patience\": 20,\n",
    "    \"reduce_lr\": True,\n",
    "    \"lr_patience\": 13,\n",
    "    \"lr_factor\": 0.1,\n",
    "}"
   ]
  },
  {
   "cell_type": "code",
   "execution_count": 5,
   "metadata": {},
   "outputs": [],
   "source": [
    "adata_all = sc.read(output)\n",
    "\n",
    "source_adata = adata_all[~adata_all.obs[condition_key].isin(target_conditions)].copy()\n",
    "target_adata = adata_all[adata_all.obs[condition_key].isin(target_conditions)].copy()\n",
    "source_conditions = source_adata.obs[condition_key].unique().tolist()"
   ]
  },
  {
   "cell_type": "code",
   "execution_count": 7,
   "metadata": {},
   "outputs": [],
   "source": [
    "source_adata.write_h5ad('source__pancreas.h5ad')\n",
    "target_adata.write_h5ad('target__pancreas.h5ad')"
   ]
  },
  {
   "cell_type": "code",
   "execution_count": 7,
   "metadata": {},
   "outputs": [
    {
     "name": "stdout",
     "output_type": "stream",
     "text": [
      "\n",
      "INITIALIZING NEW NETWORK..............\n",
      "Encoder Architecture:\n",
      "\tInput Layer in, out and cond: 1000 128 3\n",
      "\tHidden Layer 1 in/out: 128 128\n",
      "\tMean/Var Layer in/out: 128 10\n",
      "Decoder Architecture:\n",
      "\tFirst Layer in, out and cond:  10 128 3\n",
      "\tHidden Layer 1 in/out: 128 128\n",
      "\tOutput Layer in/out:  128 1000 \n",
      "\n"
     ]
    }
   ],
   "source": [
    "trvae = sca.models.TRVAE(\n",
    "    adata=source_adata,\n",
    "    condition_key=condition_key,\n",
    "    conditions=source_conditions,\n",
    "    hidden_layer_sizes=[128, 128],\n",
    ")"
   ]
  },
  {
   "cell_type": "code",
   "execution_count": 8,
   "metadata": {},
   "outputs": [
    {
     "name": "stdout",
     "output_type": "stream",
     "text": [
      " |██------------------| 10.6%  - val_loss: 658.2319335938 - val_recon_loss: 648.7462293837 - val_kl_loss: 19.0855223338 - val_mmd_loss: 4.5234735277\n",
      "ADJUSTED LR\n",
      " |███-----------------| 17.8%  - val_loss: 669.1723564996 - val_recon_loss: 656.3727077908 - val_kl_loss: 16.2815569772 - val_mmd_loss: 5.6357627445\n",
      "ADJUSTED LR\n",
      " |███-----------------| 19.2%  - val_loss: 663.8201633030 - val_recon_loss: 650.9449666341 - val_kl_loss: 15.9713758892 - val_mmd_loss: 5.2887816959\n",
      "Stopping early: no improvement of more than 0 nats in 20 epochs\n",
      "If the early stopping criterion is too strong, please instantiate it with different parameters in the train method.\n",
      "Saving best state of network...\n",
      "Best State was in Epoch 74\n"
     ]
    }
   ],
   "source": [
    "trvae.train(\n",
    "    n_epochs=trvae_epochs,\n",
    "    alpha_epoch_anneal=200,\n",
    "    early_stopping_kwargs=early_stopping_kwargs\n",
    ")"
   ]
  },
  {
   "cell_type": "code",
   "execution_count": 9,
   "metadata": {},
   "outputs": [],
   "source": [
    "ref_path = 'reference_model_pancreas/'\n",
    "trvae.save(ref_path, overwrite=True)"
   ]
  },
  {
   "cell_type": "code",
   "execution_count": 10,
   "metadata": {},
   "outputs": [
    {
     "name": "stdout",
     "output_type": "stream",
     "text": [
      "AnnData object with n_obs × n_vars = 5387 × 1000\n",
      "    obs: 'batch', 'study', 'cell_type', 'size_factors'\n",
      "\n",
      "INITIALIZING NEW NETWORK..............\n",
      "Encoder Architecture:\n",
      "\tInput Layer in, out and cond: 1000 128 5\n",
      "\tHidden Layer 1 in/out: 128 128\n",
      "\tMean/Var Layer in/out: 128 10\n",
      "Decoder Architecture:\n",
      "\tFirst Layer in, out and cond:  10 128 5\n",
      "\tHidden Layer 1 in/out: 128 128\n",
      "\tOutput Layer in/out:  128 1000 \n",
      "\n"
     ]
    }
   ],
   "source": [
    "new_trvae = sca.models.TRVAE.load_query_data(adata=target_adata, reference_model=ref_path)"
   ]
  },
  {
   "cell_type": "code",
   "execution_count": 11,
   "metadata": {},
   "outputs": [
    {
     "name": "stdout",
     "output_type": "stream",
     "text": [
      " |████----------------| 22.2%  - val_loss: 911.1574096680 - val_recon_loss: 900.9128417969 - val_kl_loss: 17.5934219360 - val_mmd_loss: 0.56819458010\n",
      "ADJUSTED LR\n",
      " |████----------------| 23.6%  - val_loss: 909.3723754883 - val_recon_loss: 898.4927490234 - val_kl_loss: 17.5979537964 - val_mmd_loss: 0.5848316193\n",
      "Stopping early: no improvement of more than 0 nats in 20 epochs\n",
      "If the early stopping criterion is too strong, please instantiate it with different parameters in the train method.\n",
      "Saving best state of network...\n",
      "Best State was in Epoch 96\n"
     ]
    }
   ],
   "source": [
    "new_trvae.train(\n",
    "    n_epochs=surgery_epochs,\n",
    "    alpha_epoch_anneal=200,\n",
    "    early_stopping_kwargs=early_stopping_kwargs,\n",
    "    weight_decay=0\n",
    ")"
   ]
  },
  {
   "cell_type": "code",
   "execution_count": 12,
   "metadata": {},
   "outputs": [],
   "source": [
    "surg_path = 'surgery_model_pancreas'\n",
    "new_trvae.save(surg_path, overwrite=True)"
   ]
  }
 ],
 "metadata": {
  "kernelspec": {
   "display_name": "archmap",
   "language": "python",
   "name": "python3"
  },
  "language_info": {
   "codemirror_mode": {
    "name": "ipython",
    "version": 3
   },
   "file_extension": ".py",
   "mimetype": "text/x-python",
   "name": "python",
   "nbconvert_exporter": "python",
   "pygments_lexer": "ipython3",
   "version": "3.11.3"
  },
  "orig_nbformat": 4
 },
 "nbformat": 4,
 "nbformat_minor": 2
}
