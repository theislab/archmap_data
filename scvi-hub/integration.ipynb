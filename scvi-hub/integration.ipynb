{
 "cells": [
  {
   "cell_type": "code",
   "execution_count": 1,
   "metadata": {},
   "outputs": [],
   "source": [
    "from huggingface_hub import hf_hub_download, HfApi, ModelFilter, snapshot_download, login\n",
    "from dotenv import load_dotenv\n",
    "import os\n",
    "\n",
    "REPO_ID = 'scvi-tools/MODEL-FOR-UNIT-TESTING-1'\n",
    "API_TOKEN = os.getenv(\"API_TOKEN\")"
   ]
  },
  {
   "cell_type": "markdown",
   "metadata": {},
   "source": [
    "# Repository Setup\n",
    "\n",
    "To use this repository, you need to set up a few things locally. Please follow the steps below:\n",
    "\n",
    "### 1. Create `.env` File\n",
    "\n",
    "1. Create a file named `.env` in the root directory of this repository.\n",
    "\n",
    "2. Open the `.env` file in a text editor.\n",
    "\n",
    "3. Add your Hugging Face API key to the `.env` file using the following format:\n",
    "\n",
    "   ```plaintext\n",
    "   API_TOKEN=\"your_api_key_here\"\n",
    "\n",
    "### 2. Creata a /local_models directory\n",
    "\n",
    "1. Create a /local_models directory in the root of the scvi-hub directory. \n",
    "This is where the local models from scvi-hub will be stored.\n"
   ]
  },
  {
   "cell_type": "code",
   "execution_count": 2,
   "metadata": {},
   "outputs": [
    {
     "name": "stdout",
     "output_type": "stream",
     "text": [
      "Token will not been saved to git credential helper. Pass `add_to_git_credential=True` if you want to set the git credential as well.\n",
      "Token is valid (permission: read).\n",
      "Your token has been saved to C:\\Users\\Ronald\\.cache\\huggingface\\token\n",
      "Login successful\n"
     ]
    }
   ],
   "source": [
    "login(token=API_TOKEN)"
   ]
  },
  {
   "cell_type": "markdown",
   "metadata": {},
   "source": [
    "### List the models under a repository"
   ]
  },
  {
   "cell_type": "code",
   "execution_count": 3,
   "metadata": {},
   "outputs": [
    {
     "name": "stdout",
     "output_type": "stream",
     "text": [
      "['scvi-tools/human-lung-cell-atlas', 'scvi-tools/tabula-sapiens-bladder-scvi', 'scvi-tools/tabula-sapiens-bladder-scanvi', 'scvi-tools/tabula-sapiens-bladder-condscvi', 'scvi-tools/tabula-sapiens-bladder-stereoscope', 'scvi-tools/tabula-sapiens-blood-scvi', 'scvi-tools/tabula-sapiens-blood-scanvi', 'scvi-tools/tabula-sapiens-blood-condscvi', 'scvi-tools/tabula-sapiens-blood-stereoscope', 'scvi-tools/tabula-sapiens-bone_marrow-scvi', 'scvi-tools/tabula-sapiens-bone_marrow-scanvi', 'scvi-tools/tabula-sapiens-bone_marrow-condscvi', 'scvi-tools/tabula-sapiens-bone_marrow-stereoscope', 'scvi-tools/tabula-sapiens-eye-scvi', 'scvi-tools/tabula-sapiens-eye-scanvi', 'scvi-tools/tabula-sapiens-eye-condscvi', 'scvi-tools/tabula-sapiens-eye-stereoscope', 'scvi-tools/tabula-sapiens-fat-scvi', 'scvi-tools/tabula-sapiens-fat-scanvi', 'scvi-tools/tabula-sapiens-fat-condscvi', 'scvi-tools/tabula-sapiens-fat-stereoscope', 'scvi-tools/tabula-sapiens-heart-scvi', 'scvi-tools/tabula-sapiens-heart-scanvi', 'scvi-tools/tabula-sapiens-heart-condscvi', 'scvi-tools/tabula-sapiens-heart-stereoscope', 'scvi-tools/tabula-sapiens-large_intestine-scvi', 'scvi-tools/tabula-sapiens-large_intestine-scanvi', 'scvi-tools/tabula-sapiens-large_intestine-condscvi', 'scvi-tools/tabula-sapiens-large_intestine-stereoscope', 'scvi-tools/tabula-sapiens-liver-scvi', 'scvi-tools/tabula-sapiens-liver-scanvi', 'scvi-tools/tabula-sapiens-liver-condscvi', 'scvi-tools/tabula-sapiens-liver-stereoscope', 'scvi-tools/tabula-sapiens-lung-scvi', 'scvi-tools/tabula-sapiens-lung-scanvi', 'scvi-tools/tabula-sapiens-lung-condscvi', 'scvi-tools/tabula-sapiens-lung-stereoscope', 'scvi-tools/tabula-sapiens-lymph_node-scvi', 'scvi-tools/tabula-sapiens-lymph_node-scanvi', 'scvi-tools/tabula-sapiens-lymph_node-condscvi', 'scvi-tools/tabula-sapiens-lymph_node-stereoscope', 'scvi-tools/tabula-sapiens-mammary-scvi', 'scvi-tools/tabula-sapiens-mammary-scanvi', 'scvi-tools/tabula-sapiens-mammary-condscvi', 'scvi-tools/tabula-sapiens-mammary-stereoscope', 'scvi-tools/tabula-sapiens-muscle-scvi', 'scvi-tools/tabula-sapiens-muscle-scanvi', 'scvi-tools/tabula-sapiens-muscle-condscvi', 'scvi-tools/tabula-sapiens-muscle-stereoscope', 'scvi-tools/tabula-sapiens-pancreas-scvi', 'scvi-tools/tabula-sapiens-pancreas-scanvi', 'scvi-tools/tabula-sapiens-pancreas-condscvi', 'scvi-tools/tabula-sapiens-pancreas-stereoscope', 'scvi-tools/tabula-sapiens-prostate-scvi', 'scvi-tools/tabula-sapiens-prostate-scanvi', 'scvi-tools/tabula-sapiens-salivary_gland-scvi', 'scvi-tools/tabula-sapiens-salivary_gland-scanvi', 'scvi-tools/tabula-sapiens-skin-scvi', 'scvi-tools/tabula-sapiens-skin-scanvi', 'scvi-tools/tabula-sapiens-skin-condscvi', 'scvi-tools/tabula-sapiens-skin-stereoscope', 'scvi-tools/tabula-sapiens-small_intestine-scvi', 'scvi-tools/tabula-sapiens-small_intestine-scanvi', 'scvi-tools/tabula-sapiens-spleen-scvi', 'scvi-tools/tabula-sapiens-spleen-scanvi', 'scvi-tools/tabula-sapiens-spleen-condscvi', 'scvi-tools/tabula-sapiens-spleen-stereoscope', 'scvi-tools/tabula-sapiens-thymus-scvi', 'scvi-tools/tabula-sapiens-thymus-scanvi', 'scvi-tools/tabula-sapiens-tongue-scvi', 'scvi-tools/tabula-sapiens-tongue-scanvi', 'scvi-tools/tabula-sapiens-tongue-condscvi', 'scvi-tools/tabula-sapiens-tongue-stereoscope', 'scvi-tools/tabula-sapiens-trachea-scvi', 'scvi-tools/tabula-sapiens-trachea-scanvi', 'scvi-tools/tabula-sapiens-trachea-condscvi', 'scvi-tools/tabula-sapiens-trachea-stereoscope', 'scvi-tools/tabula-sapiens-uterus-scvi', 'scvi-tools/tabula-sapiens-uterus-scanvi', 'scvi-tools/tabula-sapiens-uterus-condscvi', 'scvi-tools/tabula-sapiens-uterus-stereoscope', 'scvi-tools/tabula-sapiens-vasculature-scvi', 'scvi-tools/tabula-sapiens-vasculature-scanvi', 'scvi-tools/tabula-sapiens-vasculature-condscvi', 'scvi-tools/tabula-sapiens-vasculature-stereoscope', 'scvi-tools/tabula-sapiens-prostate-condscvi', 'scvi-tools/tabula-sapiens-prostate-stereoscope', 'scvi-tools/tabula-sapiens-salivary_gland-condscvi', 'scvi-tools/tabula-sapiens-salivary_gland-stereoscope', 'scvi-tools/tabula-sapiens-small_intestine-condscvi', 'scvi-tools/tabula-sapiens-small_intestine-stereoscope', 'scvi-tools/tabula-sapiens-thymus-condscvi', 'scvi-tools/tabula-sapiens-thymus-stereoscope', 'scvi-tools/non-small-cell-lung-cancer']\n",
      "scvi-tools/tabula-sapiens-bladder-scanvi\n"
     ]
    }
   ],
   "source": [
    "api = HfApi()\n",
    "models = api.list_models(\n",
    "    filter=ModelFilter(\n",
    "        author=\"scvi-tools\",\n",
    "    )\n",
    ")\n",
    "\n",
    "# Get all model IDs that do not have the words demo or testing in the name\n",
    "filtered_model_ids = [model.modelId for model in models if \"demo\" not in model.modelId.lower() and \"testing\" not in model.modelId.lower()]\n",
    "\n",
    "# Get all the model ids\n",
    "print(filtered_model_ids)\n",
    "# Get a certain model id\n",
    "print(filtered_model_ids[2])\n"
   ]
  },
  {
   "cell_type": "markdown",
   "metadata": {},
   "source": [
    "### Download the models and cache them\n",
    "\n",
    "The models will be downloaded in the local_models directory. The Pytorch files can be found under the /snapshots folder."
   ]
  },
  {
   "cell_type": "code",
   "execution_count": 8,
   "metadata": {},
   "outputs": [
    {
     "data": {
      "application/vnd.jupyter.widget-view+json": {
       "model_id": "05eb025de72b4e6ead530f35cc80f943",
       "version_major": 2,
       "version_minor": 0
      },
      "text/plain": [
       "Fetching 1 files:   0%|          | 0/1 [00:00<?, ?it/s]"
      ]
     },
     "metadata": {},
     "output_type": "display_data"
    },
    {
     "data": {
      "text/plain": [
       "'C:/Users/Ronald/Desktop/Helmholtz/scvi-hub/local_models\\\\models--scvi-tools--tabula-sapiens-bladder-stereoscope\\\\snapshots\\\\4c503c88748da6aa9021489a13d19ef1da0b5506'"
      ]
     },
     "execution_count": 8,
     "metadata": {},
     "output_type": "execute_result"
    }
   ],
   "source": [
    "# Download files to local folder and use the cached version\n",
    "# This example downloads the repository that has model_id[4]\n",
    "# The model will be downloaded under \"/snapshot\"\n",
    "snapshot_download(repo_id=filtered_model_ids[4], allow_patterns=[\"*.h5ad\",\"*.pt\"],cache_dir='C:/Users/Ronald/Desktop/Helmholtz/scvi-hub/local_models')"
   ]
  }
 ],
 "metadata": {
  "kernelspec": {
   "display_name": "scarches",
   "language": "python",
   "name": "python3"
  },
  "language_info": {
   "codemirror_mode": {
    "name": "ipython",
    "version": 3
   },
   "file_extension": ".py",
   "mimetype": "text/x-python",
   "name": "python",
   "nbconvert_exporter": "python",
   "pygments_lexer": "ipython3",
   "version": "3.8.13"
  },
  "orig_nbformat": 4
 },
 "nbformat": 4,
 "nbformat_minor": 2
}
